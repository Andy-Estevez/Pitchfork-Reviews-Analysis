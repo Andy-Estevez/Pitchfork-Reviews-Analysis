{
 "cells": [
  {
   "cell_type": "markdown",
   "metadata": {},
   "source": [
    "# Things to add to the Project:\n",
    "\n",
    "1. Word Clouds\n",
    "2. Top reviewers scores for albums\n",
    "3. Top reviewers scores by genre & differences"
   ]
  },
  {
   "cell_type": "code",
   "execution_count": 357,
   "metadata": {
    "_cell_guid": "b1076dfc-b9ad-4769-8c92-a6c4dae69d19",
    "_uuid": "8f2839f25d086af736a60e9eeb907d3b93b6e0e5"
   },
   "outputs": [],
   "source": [
    "import numpy as np # linear algebra\n",
    "import pandas as pd # data processing, CSV file I/O (e.g. pd.read_csv)\n",
    "import matplotlib.pyplot as plt # for plotting"
   ]
  },
  {
   "cell_type": "code",
   "execution_count": 358,
   "metadata": {},
   "outputs": [],
   "source": [
    "# Download the dataset from Kaggle at https://www.kaggle.com/bcyphers/pitchfork-reviews/download\n",
    "# Extract the zip and retrieve \"reviews.csv\""
   ]
  },
  {
   "cell_type": "code",
   "execution_count": 359,
   "metadata": {
    "_cell_guid": "79c7e3d0-c299-4dcb-8224-4455121ee9b0",
    "_uuid": "d629ff2d2480ee46fbb7e2d37f6b5fab8052498a"
   },
   "outputs": [
    {
     "data": {
      "text/html": [
       "<div>\n",
       "<style scoped>\n",
       "    .dataframe tbody tr th:only-of-type {\n",
       "        vertical-align: middle;\n",
       "    }\n",
       "\n",
       "    .dataframe tbody tr th {\n",
       "        vertical-align: top;\n",
       "    }\n",
       "\n",
       "    .dataframe thead th {\n",
       "        text-align: right;\n",
       "    }\n",
       "</style>\n",
       "<table border=\"1\" class=\"dataframe\">\n",
       "  <thead>\n",
       "    <tr style=\"text-align: right;\">\n",
       "      <th></th>\n",
       "      <th>reviewid</th>\n",
       "      <th>Unnamed: 0</th>\n",
       "      <th>title</th>\n",
       "      <th>url</th>\n",
       "      <th>score</th>\n",
       "      <th>best_new_music</th>\n",
       "      <th>author</th>\n",
       "      <th>author_type</th>\n",
       "      <th>pub_date</th>\n",
       "      <th>pub_weekday</th>\n",
       "      <th>pub_day</th>\n",
       "      <th>pub_month</th>\n",
       "      <th>pub_year</th>\n",
       "      <th>reviewid.1</th>\n",
       "      <th>content</th>\n",
       "      <th>genre</th>\n",
       "      <th>label</th>\n",
       "      <th>artist</th>\n",
       "    </tr>\n",
       "  </thead>\n",
       "  <tbody>\n",
       "    <tr>\n",
       "      <th>0</th>\n",
       "      <td>22703</td>\n",
       "      <td>0</td>\n",
       "      <td>mezzanine</td>\n",
       "      <td>http://pitchfork.com/reviews/albums/22703-mezz...</td>\n",
       "      <td>9.3</td>\n",
       "      <td>0</td>\n",
       "      <td>nate patrin</td>\n",
       "      <td>contributor</td>\n",
       "      <td>2017-01-08</td>\n",
       "      <td>6</td>\n",
       "      <td>8</td>\n",
       "      <td>1</td>\n",
       "      <td>2017</td>\n",
       "      <td>22703</td>\n",
       "      <td>“Trip-hop” eventually became a ’90s punchline,...</td>\n",
       "      <td>electronic</td>\n",
       "      <td>virgin</td>\n",
       "      <td>massive attack</td>\n",
       "    </tr>\n",
       "    <tr>\n",
       "      <th>1</th>\n",
       "      <td>22721</td>\n",
       "      <td>1</td>\n",
       "      <td>prelapsarian</td>\n",
       "      <td>http://pitchfork.com/reviews/albums/22721-prel...</td>\n",
       "      <td>7.9</td>\n",
       "      <td>0</td>\n",
       "      <td>zoe camp</td>\n",
       "      <td>contributor</td>\n",
       "      <td>2017-01-07</td>\n",
       "      <td>5</td>\n",
       "      <td>7</td>\n",
       "      <td>1</td>\n",
       "      <td>2017</td>\n",
       "      <td>22721</td>\n",
       "      <td>Eight years, five albums, and two EPs in, the ...</td>\n",
       "      <td>metal</td>\n",
       "      <td>hathenter</td>\n",
       "      <td>krallice</td>\n",
       "    </tr>\n",
       "    <tr>\n",
       "      <th>2</th>\n",
       "      <td>22659</td>\n",
       "      <td>2</td>\n",
       "      <td>all of them naturals</td>\n",
       "      <td>http://pitchfork.com/reviews/albums/22659-all-...</td>\n",
       "      <td>7.3</td>\n",
       "      <td>0</td>\n",
       "      <td>david glickman</td>\n",
       "      <td>contributor</td>\n",
       "      <td>2017-01-07</td>\n",
       "      <td>5</td>\n",
       "      <td>7</td>\n",
       "      <td>1</td>\n",
       "      <td>2017</td>\n",
       "      <td>22659</td>\n",
       "      <td>Minneapolis’ Uranium Club seem to revel in bei...</td>\n",
       "      <td>rock</td>\n",
       "      <td>static shock</td>\n",
       "      <td>uranium club</td>\n",
       "    </tr>\n",
       "  </tbody>\n",
       "</table>\n",
       "</div>"
      ],
      "text/plain": [
       "   reviewid  Unnamed: 0                 title  \\\n",
       "0     22703           0             mezzanine   \n",
       "1     22721           1          prelapsarian   \n",
       "2     22659           2  all of them naturals   \n",
       "\n",
       "                                                 url  score  best_new_music  \\\n",
       "0  http://pitchfork.com/reviews/albums/22703-mezz...    9.3               0   \n",
       "1  http://pitchfork.com/reviews/albums/22721-prel...    7.9               0   \n",
       "2  http://pitchfork.com/reviews/albums/22659-all-...    7.3               0   \n",
       "\n",
       "           author  author_type    pub_date  pub_weekday  pub_day  pub_month  \\\n",
       "0     nate patrin  contributor  2017-01-08            6        8          1   \n",
       "1        zoe camp  contributor  2017-01-07            5        7          1   \n",
       "2  david glickman  contributor  2017-01-07            5        7          1   \n",
       "\n",
       "   pub_year  reviewid.1                                            content  \\\n",
       "0      2017       22703  “Trip-hop” eventually became a ’90s punchline,...   \n",
       "1      2017       22721  Eight years, five albums, and two EPs in, the ...   \n",
       "2      2017       22659  Minneapolis’ Uranium Club seem to revel in bei...   \n",
       "\n",
       "        genre         label          artist  \n",
       "0  electronic        virgin  massive attack  \n",
       "1       metal     hathenter        krallice  \n",
       "2        rock  static shock    uranium club  "
      ]
     },
     "execution_count": 359,
     "metadata": {},
     "output_type": "execute_result"
    }
   ],
   "source": [
    "raw_data = pd.read_csv(\"C:/Users/Home/Downloads/reviews.csv/reviews.csv\")\n",
    "raw_data.head(3)"
   ]
  },
  {
   "cell_type": "code",
   "execution_count": 360,
   "metadata": {},
   "outputs": [
    {
     "data": {
      "text/html": [
       "<div>\n",
       "<style scoped>\n",
       "    .dataframe tbody tr th:only-of-type {\n",
       "        vertical-align: middle;\n",
       "    }\n",
       "\n",
       "    .dataframe tbody tr th {\n",
       "        vertical-align: top;\n",
       "    }\n",
       "\n",
       "    .dataframe thead th {\n",
       "        text-align: right;\n",
       "    }\n",
       "</style>\n",
       "<table border=\"1\" class=\"dataframe\">\n",
       "  <thead>\n",
       "    <tr style=\"text-align: right;\">\n",
       "      <th></th>\n",
       "      <th>reviewid</th>\n",
       "      <th>title</th>\n",
       "      <th>score</th>\n",
       "      <th>best_new_music</th>\n",
       "      <th>author</th>\n",
       "      <th>author_type</th>\n",
       "      <th>pub_date</th>\n",
       "      <th>pub_year</th>\n",
       "      <th>content</th>\n",
       "      <th>genre</th>\n",
       "      <th>label</th>\n",
       "      <th>artist</th>\n",
       "    </tr>\n",
       "  </thead>\n",
       "  <tbody>\n",
       "    <tr>\n",
       "      <th>0</th>\n",
       "      <td>22703</td>\n",
       "      <td>mezzanine</td>\n",
       "      <td>9.3</td>\n",
       "      <td>0</td>\n",
       "      <td>nate patrin</td>\n",
       "      <td>contributor</td>\n",
       "      <td>2017-01-08</td>\n",
       "      <td>2017</td>\n",
       "      <td>“Trip-hop” eventually became a ’90s punchline,...</td>\n",
       "      <td>electronic</td>\n",
       "      <td>virgin</td>\n",
       "      <td>massive attack</td>\n",
       "    </tr>\n",
       "    <tr>\n",
       "      <th>1</th>\n",
       "      <td>22721</td>\n",
       "      <td>prelapsarian</td>\n",
       "      <td>7.9</td>\n",
       "      <td>0</td>\n",
       "      <td>zoe camp</td>\n",
       "      <td>contributor</td>\n",
       "      <td>2017-01-07</td>\n",
       "      <td>2017</td>\n",
       "      <td>Eight years, five albums, and two EPs in, the ...</td>\n",
       "      <td>metal</td>\n",
       "      <td>hathenter</td>\n",
       "      <td>krallice</td>\n",
       "    </tr>\n",
       "    <tr>\n",
       "      <th>2</th>\n",
       "      <td>22659</td>\n",
       "      <td>all of them naturals</td>\n",
       "      <td>7.3</td>\n",
       "      <td>0</td>\n",
       "      <td>david glickman</td>\n",
       "      <td>contributor</td>\n",
       "      <td>2017-01-07</td>\n",
       "      <td>2017</td>\n",
       "      <td>Minneapolis’ Uranium Club seem to revel in bei...</td>\n",
       "      <td>rock</td>\n",
       "      <td>static shock</td>\n",
       "      <td>uranium club</td>\n",
       "    </tr>\n",
       "  </tbody>\n",
       "</table>\n",
       "</div>"
      ],
      "text/plain": [
       "   reviewid                 title  score  best_new_music          author  \\\n",
       "0     22703             mezzanine    9.3               0     nate patrin   \n",
       "1     22721          prelapsarian    7.9               0        zoe camp   \n",
       "2     22659  all of them naturals    7.3               0  david glickman   \n",
       "\n",
       "   author_type    pub_date  pub_year  \\\n",
       "0  contributor  2017-01-08      2017   \n",
       "1  contributor  2017-01-07      2017   \n",
       "2  contributor  2017-01-07      2017   \n",
       "\n",
       "                                             content       genre  \\\n",
       "0  “Trip-hop” eventually became a ’90s punchline,...  electronic   \n",
       "1  Eight years, five albums, and two EPs in, the ...       metal   \n",
       "2  Minneapolis’ Uranium Club seem to revel in bei...        rock   \n",
       "\n",
       "          label          artist  \n",
       "0        virgin  massive attack  \n",
       "1     hathenter        krallice  \n",
       "2  static shock    uranium club  "
      ]
     },
     "execution_count": 360,
     "metadata": {},
     "output_type": "execute_result"
    }
   ],
   "source": [
    "# Drop columns we won't be needing\n",
    "raw_data.drop(['url', 'pub_weekday', 'pub_day', 'pub_month',  'reviewid.1', 'Unnamed: 0'], axis = 1, inplace = True)\n",
    "raw_data.head(3)"
   ]
  },
  {
   "cell_type": "code",
   "execution_count": 361,
   "metadata": {},
   "outputs": [
    {
     "data": {
      "text/plain": [
       "reviewid            int64\n",
       "title              object\n",
       "score             float64\n",
       "best_new_music      int64\n",
       "author             object\n",
       "author_type        object\n",
       "pub_date           object\n",
       "pub_year            int64\n",
       "content            object\n",
       "genre              object\n",
       "label              object\n",
       "artist             object\n",
       "dtype: object"
      ]
     },
     "execution_count": 361,
     "metadata": {},
     "output_type": "execute_result"
    }
   ],
   "source": [
    "# Check the datatypes of the dataset\n",
    "# raw_data['author'] = raw_data['author'].astype(str)\n",
    "raw_data.dtypes"
   ]
  },
  {
   "cell_type": "code",
   "execution_count": 362,
   "metadata": {},
   "outputs": [
    {
     "name": "stdout",
     "output_type": "stream",
     "text": [
      "reviewid             0\n",
      "title                2\n",
      "score                0\n",
      "best_new_music       0\n",
      "author               0\n",
      "author_type       3904\n",
      "pub_date             0\n",
      "pub_year             0\n",
      "content             10\n",
      "genre             2364\n",
      "label               47\n",
      "artist               2\n",
      "dtype: int64\n"
     ]
    }
   ],
   "source": [
    "# Check for null values in the dataset\n",
    "print(pd.isnull(raw_data).sum())\n",
    "\n",
    "# fill in the null values for the genre column\n",
    "raw_data['genre'].fillna(\"No Genre\", inplace = True)"
   ]
  },
  {
   "cell_type": "markdown",
   "metadata": {},
   "source": [
    "### Change the score of albums to whole numbers"
   ]
  },
  {
   "cell_type": "code",
   "execution_count": 363,
   "metadata": {},
   "outputs": [],
   "source": [
    "# Change the score number to a whole number ranging from 1 - 100\n",
    "increase_score = raw_data['score'] * 10"
   ]
  },
  {
   "cell_type": "code",
   "execution_count": 364,
   "metadata": {},
   "outputs": [
    {
     "data": {
      "text/html": [
       "<div>\n",
       "<style scoped>\n",
       "    .dataframe tbody tr th:only-of-type {\n",
       "        vertical-align: middle;\n",
       "    }\n",
       "\n",
       "    .dataframe tbody tr th {\n",
       "        vertical-align: top;\n",
       "    }\n",
       "\n",
       "    .dataframe thead th {\n",
       "        text-align: right;\n",
       "    }\n",
       "</style>\n",
       "<table border=\"1\" class=\"dataframe\">\n",
       "  <thead>\n",
       "    <tr style=\"text-align: right;\">\n",
       "      <th></th>\n",
       "      <th>reviewid</th>\n",
       "      <th>title</th>\n",
       "      <th>score</th>\n",
       "      <th>best_new_music</th>\n",
       "      <th>author</th>\n",
       "      <th>author_type</th>\n",
       "      <th>pub_date</th>\n",
       "      <th>pub_year</th>\n",
       "      <th>content</th>\n",
       "      <th>genre</th>\n",
       "      <th>label</th>\n",
       "      <th>artist</th>\n",
       "    </tr>\n",
       "  </thead>\n",
       "  <tbody>\n",
       "    <tr>\n",
       "      <th>0</th>\n",
       "      <td>22703</td>\n",
       "      <td>mezzanine</td>\n",
       "      <td>93</td>\n",
       "      <td>0</td>\n",
       "      <td>nate patrin</td>\n",
       "      <td>contributor</td>\n",
       "      <td>2017-01-08</td>\n",
       "      <td>2017</td>\n",
       "      <td>“Trip-hop” eventually became a ’90s punchline,...</td>\n",
       "      <td>electronic</td>\n",
       "      <td>virgin</td>\n",
       "      <td>massive attack</td>\n",
       "    </tr>\n",
       "    <tr>\n",
       "      <th>1</th>\n",
       "      <td>22721</td>\n",
       "      <td>prelapsarian</td>\n",
       "      <td>79</td>\n",
       "      <td>0</td>\n",
       "      <td>zoe camp</td>\n",
       "      <td>contributor</td>\n",
       "      <td>2017-01-07</td>\n",
       "      <td>2017</td>\n",
       "      <td>Eight years, five albums, and two EPs in, the ...</td>\n",
       "      <td>metal</td>\n",
       "      <td>hathenter</td>\n",
       "      <td>krallice</td>\n",
       "    </tr>\n",
       "    <tr>\n",
       "      <th>2</th>\n",
       "      <td>22659</td>\n",
       "      <td>all of them naturals</td>\n",
       "      <td>73</td>\n",
       "      <td>0</td>\n",
       "      <td>david glickman</td>\n",
       "      <td>contributor</td>\n",
       "      <td>2017-01-07</td>\n",
       "      <td>2017</td>\n",
       "      <td>Minneapolis’ Uranium Club seem to revel in bei...</td>\n",
       "      <td>rock</td>\n",
       "      <td>static shock</td>\n",
       "      <td>uranium club</td>\n",
       "    </tr>\n",
       "  </tbody>\n",
       "</table>\n",
       "</div>"
      ],
      "text/plain": [
       "   reviewid                 title  score  best_new_music          author  \\\n",
       "0     22703             mezzanine     93               0     nate patrin   \n",
       "1     22721          prelapsarian     79               0        zoe camp   \n",
       "2     22659  all of them naturals     73               0  david glickman   \n",
       "\n",
       "   author_type    pub_date  pub_year  \\\n",
       "0  contributor  2017-01-08      2017   \n",
       "1  contributor  2017-01-07      2017   \n",
       "2  contributor  2017-01-07      2017   \n",
       "\n",
       "                                             content       genre  \\\n",
       "0  “Trip-hop” eventually became a ’90s punchline,...  electronic   \n",
       "1  Eight years, five albums, and two EPs in, the ...       metal   \n",
       "2  Minneapolis’ Uranium Club seem to revel in bei...        rock   \n",
       "\n",
       "          label          artist  \n",
       "0        virgin  massive attack  \n",
       "1     hathenter        krallice  \n",
       "2  static shock    uranium club  "
      ]
     },
     "execution_count": 364,
     "metadata": {},
     "output_type": "execute_result"
    }
   ],
   "source": [
    "raw_data['score'] = increase_score\n",
    "raw_data['score'] = raw_data['score'].astype(int)\n",
    "raw_data.head(3)"
   ]
  },
  {
   "cell_type": "markdown",
   "metadata": {},
   "source": [
    "### Create two dataframes based on if an author has less than 100 reviews/more than or equal to 100 reviews"
   ]
  },
  {
   "cell_type": "code",
   "execution_count": 365,
   "metadata": {},
   "outputs": [],
   "source": [
    "strings = raw_data['author'].value_counts()[:52].index # 52 authors over 100 reviews or more\n",
    "\n",
    "# Create a list containing the authors with >= 100 reviews\n",
    "author_names = []\n",
    "for x in strings:\n",
    "    author_names.append(x)"
   ]
  },
  {
   "cell_type": "code",
   "execution_count": 366,
   "metadata": {},
   "outputs": [
    {
     "data": {
      "text/plain": [
       "0.6833260822275397"
      ]
     },
     "execution_count": 366,
     "metadata": {},
     "output_type": "execute_result"
    }
   ],
   "source": [
    "raw_data['author'].value_counts(normalize = True)[:52].sum() # percentage of all reviews"
   ]
  },
  {
   "cell_type": "code",
   "execution_count": 367,
   "metadata": {},
   "outputs": [
    {
     "data": {
      "text/plain": [
       "52"
      ]
     },
     "execution_count": 367,
     "metadata": {},
     "output_type": "execute_result"
    }
   ],
   "source": [
    "(raw_data['author'].value_counts() >= 100).sum() # proves how many authors have over 100 reviews or more"
   ]
  },
  {
   "cell_type": "code",
   "execution_count": 368,
   "metadata": {},
   "outputs": [],
   "source": [
    "author_less = []\n",
    "strings = raw_data['author'].value_counts()[52:].index\n",
    "for x in strings:\n",
    "    author_less.append(x)"
   ]
  },
  {
   "cell_type": "code",
   "execution_count": 369,
   "metadata": {},
   "outputs": [],
   "source": [
    "# get the indices of the authors with >= 100 reviews, needed for data cleaning\n",
    "keep_indices = []\n",
    "increment = -1\n",
    "for i in raw_data['author']: # iterate through the author column of the dataframe\n",
    "    increment += 1 # increase when the iteration for the row has been complete to check if the author is in the list\n",
    "    for j in range(len(author_names)): # iterate through the names with >= 100 reviews\n",
    "        if i == author_names[j]: # check if they are the same\n",
    "           keep_indices.append(increment) # append the indice"
   ]
  },
  {
   "cell_type": "code",
   "execution_count": 370,
   "metadata": {},
   "outputs": [
    {
     "name": "stdout",
     "output_type": "stream",
     "text": [
      "12565\n",
      "12565\n"
     ]
    }
   ],
   "source": [
    "# compare if the amonut of reviews is the same as the authors total reviews with >= 100 \n",
    "print(len(keep_indices))\n",
    "print(raw_data['author'].value_counts()[:52].sum())"
   ]
  },
  {
   "cell_type": "code",
   "execution_count": 371,
   "metadata": {},
   "outputs": [],
   "source": [
    "# get the indices we want to drop\n",
    "remove_indices = []\n",
    "increment = -1\n",
    "for i in raw_data['author']:\n",
    "    increment += 1\n",
    "    for j in range(len(author_less)):\n",
    "        if i == author_less[j]:\n",
    "            remove_indices.append(increment)"
   ]
  },
  {
   "cell_type": "code",
   "execution_count": 372,
   "metadata": {},
   "outputs": [
    {
     "name": "stdout",
     "output_type": "stream",
     "text": [
      "5823\n",
      "5823\n"
     ]
    }
   ],
   "source": [
    "# compare if the amonut of reviews is the same as the authors total reviews with >= 100 \n",
    "print(len(remove_indices))\n",
    "print(raw_data['author'].value_counts()[52:].sum())"
   ]
  },
  {
   "cell_type": "code",
   "execution_count": 373,
   "metadata": {},
   "outputs": [
    {
     "data": {
      "text/plain": [
       "joe tangari             815\n",
       "stephen m. deusner      725\n",
       "ian cohen               699\n",
       "brian howe              500\n",
       "mark richardson         476\n",
       "stuart berman           445\n",
       "marc hogan              439\n",
       "nate patrin             347\n",
       "marc masters            312\n",
       "jayson greene           299\n",
       "grayson currin          289\n",
       "brandon stosuy          287\n",
       "matthew murphy          274\n",
       "dominique leone         273\n",
       "jess harvell            273\n",
       "andrew gaerig           270\n",
       "jason crock             267\n",
       "rob mitchum             267\n",
       "andy beta               249\n",
       "paul thompson           222\n",
       "joshua klein            217\n",
       "larry fitzmaurice       217\n",
       "chris dahlen            214\n",
       "nick neyland            211\n",
       "philip sherburne        209\n",
       "adam moerder            209\n",
       "tom breihan             208\n",
       "amanda petrusich        200\n",
       "matt lemay              196\n",
       "ryan dombal             174\n",
       "mike powell             160\n",
       "david raposa            155\n",
       "zach kelly              153\n",
       "sam ubl                 152\n",
       "nitsuh abebe            144\n",
       "grayson haver currin    136\n",
       "eric harvey             136\n",
       "mark richard-san        135\n",
       "william bowers          129\n",
       "douglas wolk            128\n",
       "eric carr               128\n",
       "nick sylvester          125\n",
       "scott plagenhoef        123\n",
       "paul cooper             120\n",
       "lindsay zoladz          117\n",
       "jason heller            112\n",
       "joe colly               109\n",
       "joshua love             107\n",
       "mark pytlik             106\n",
       "laura snapes            104\n",
       "miles raymer            103\n",
       "evan minsker            100\n",
       "Name: author, dtype: int64"
      ]
     },
     "execution_count": 373,
     "metadata": {},
     "output_type": "execute_result"
    }
   ],
   "source": [
    "subdata = raw_data.drop(remove_indices)\n",
    "subdata['author'].value_counts() # check if the <= 100 reviews have been removed"
   ]
  },
  {
   "cell_type": "code",
   "execution_count": 374,
   "metadata": {},
   "outputs": [
    {
     "data": {
      "text/plain": [
       "aaron leitko                                                   97\n",
       "brent dicrescenzo                                              93\n",
       "zach baron                                                     89\n",
       "tim finney                                                     86\n",
       "ryan schreiber                                                 85\n",
       "rebecca raber                                                  84\n",
       "jonah bromwich                                                 81\n",
       "david bevan                                                    80\n",
       "matthew perpetua                                               70\n",
       "brad haywood                                                   69\n",
       "zoe camp                                                       69\n",
       "andy o'connor                                                  67\n",
       "david drake                                                    66\n",
       "jason nickey                                                   65\n",
       "cory d. byrom                                                  63\n",
       "kim kelly                                                      62\n",
       "christopher dare                                               62\n",
       "jordan sargent                                                 59\n",
       "sean fennessey                                                 59\n",
       "seth colter walls                                              58\n",
       "cameron macdonald                                              58\n",
       "andrew ryce                                                    58\n",
       "sheldon pearce                                                 57\n",
       "steven hyden                                                   55\n",
       "saby reyes-kulkarni                                            54\n",
       "liz colville                                                   53\n",
       "rollie pemberton                                               53\n",
       "evan rytlewski                                                 53\n",
       "craig jenkins                                                  53\n",
       "amy granzin                                                    53\n",
       "                                                               ..\n",
       "john everhart                                                   1\n",
       "choppa moussaoui, with help from mullah omar, ethan p, and      1\n",
       "andy o' connor                                                  1\n",
       "finn cohen                                                      1\n",
       "timmhotep aku                                                   1\n",
       "nate patrin                                                     1\n",
       "andrew nosnitsky                                                1\n",
       "zach hammerman                                                  1\n",
       "brendan mattox                                                  1\n",
       "brock kappers                                                   1\n",
       "dorian lynskey                                                  1\n",
       "b michael payne                                                 1\n",
       "dr. andy beta                                                   1\n",
       "jeremy larson                                                   1\n",
       "andy beta, brandon stosuy & mark richardson                     1\n",
       "stosh \"piz\" piznarski                                           1\n",
       "saby reyes kulkarni                                             1\n",
       "carl wilson                                                     1\n",
       "keith brasel                                                    1\n",
       "simon goddard                                                   1\n",
       "loren ludwig & jascha hoffman                                   1\n",
       "natalie moore                                                   1\n",
       "drew gaerig                                                     1\n",
       "rawiya kameir                                                   1\n",
       "pj gallagher                                                    1\n",
       "brandon wall                                                    1\n",
       "brian howe & brandon stosuy                                     1\n",
       "craig rostron                                                   1\n",
       "casey rea                                                       1\n",
       "bob o. mcmillan                                                 1\n",
       "Name: author, Length: 380, dtype: int64"
      ]
     },
     "execution_count": 374,
     "metadata": {},
     "output_type": "execute_result"
    }
   ],
   "source": [
    "# created dataframe with authors < 100 reviews\n",
    "less100data = raw_data.drop(keep_indices)\n",
    "less100data['author'].value_counts()"
   ]
  },
  {
   "cell_type": "markdown",
   "metadata": {},
   "source": [
    "### Amount of reviews for authors with over 100"
   ]
  },
  {
   "cell_type": "code",
   "execution_count": 375,
   "metadata": {},
   "outputs": [
    {
     "data": {
      "text/plain": [
       "<matplotlib.axes._subplots.AxesSubplot at 0x15c0786b160>"
      ]
     },
     "execution_count": 375,
     "metadata": {},
     "output_type": "execute_result"
    },
    {
     "data": {
      "image/png": "[encoded data removed]",
      "text/plain": [
       "<Figure size 720x720 with 1 Axes>"
      ]
     },
     "metadata": {
      "needs_background": "light"
     },
     "output_type": "display_data"
    }
   ],
   "source": [
    "plt.figure(figsize = (10,10))\n",
    "subdata['author'].value_counts().plot(kind='barh')"
   ]
  },
  {
   "cell_type": "markdown",
   "metadata": {},
   "source": [
    "### Differentiation of Top 52 vs All vs Under 52 authors "
   ]
  },
  {
   "cell_type": "code",
   "execution_count": 376,
   "metadata": {},
   "outputs": [],
   "source": [
    "total = raw_data['genre'].value_counts(ascending = True)\n",
    "authors100 = subdata['genre'].value_counts(ascending = True)\n",
    "less100 = less100data['genre'].value_counts(ascending = True)"
   ]
  },
  {
   "cell_type": "code",
   "execution_count": 377,
   "metadata": {},
   "outputs": [
    {
     "data": {
      "text/plain": [
       "(array([0, 1, 2, 3, 4, 5, 6, 7, 8, 9]), <a list of 10 Text xticklabel objects>)"
      ]
     },
     "execution_count": 377,
     "metadata": {},
     "output_type": "execute_result"
    },
    {
     "data": {
      "image/png": "[encoded data removed]",
      "text/plain": [
       "<Figure size 1656x1080 with 3 Axes>"
      ]
     },
     "metadata": {
      "needs_background": "light"
     },
     "output_type": "display_data"
    }
   ],
   "source": [
    "fig = plt.figure(figsize = (23, 15), edgecolor = 'Red')\n",
    "\n",
    "\n",
    "ax1 = fig.add_subplot(2, 2, 1)\n",
    "total.plot(ax = ax1, kind = 'bar', title = 'Total Reviews for Genres')\n",
    "plt.xticks(rotation = 'horizontal')\n",
    "\n",
    "ax2 = fig.add_subplot(2, 2, 2)\n",
    "authors100.plot(ax = ax2, kind = 'bar', title = 'Total Reviews for Genres for top 52 authors')\n",
    "plt.xticks(rotation = 'horizontal')\n",
    "\n",
    "ax3 = fig.add_subplot(2, 2, 3)\n",
    "less100.plot(ax = ax3, kind = 'bar', title = 'Total Reviews for Genres for remaining authors')\n",
    "plt.xticks(rotation = 'horizontal')"
   ]
  },
  {
   "cell_type": "code",
   "execution_count": 378,
   "metadata": {},
   "outputs": [],
   "source": [
    "# Solution to separating the genres for authors with >= 100 reviews for Pitchfork\n",
    "rap_data = subdata[subdata['genre'] == 'rap']\n",
    "electronic_data = subdata[subdata['genre'] == 'electronic']\n",
    "pop_and_rb_data = subdata[subdata['genre'] == 'pop/r&b']\n",
    "experimental_data = subdata[subdata['genre'] == 'experimental']\n",
    "metal_data = subdata[subdata['genre'] == 'metal']\n",
    "global_data = subdata[subdata['genre'] == 'global']\n",
    "rock_data = subdata[subdata['genre'] == 'rock']\n",
    "folk_and_country_data = subdata[subdata['genre'] == 'folk/country']\n",
    "jazz_data = subdata[subdata['genre'] == 'jazz']"
   ]
  },
  {
   "cell_type": "code",
   "execution_count": 379,
   "metadata": {},
   "outputs": [
    {
     "data": {
      "text/html": [
       "<div>\n",
       "<style scoped>\n",
       "    .dataframe tbody tr th:only-of-type {\n",
       "        vertical-align: middle;\n",
       "    }\n",
       "\n",
       "    .dataframe tbody tr th {\n",
       "        vertical-align: top;\n",
       "    }\n",
       "\n",
       "    .dataframe thead th {\n",
       "        text-align: right;\n",
       "    }\n",
       "</style>\n",
       "<table border=\"1\" class=\"dataframe\">\n",
       "  <thead>\n",
       "    <tr style=\"text-align: right;\">\n",
       "      <th></th>\n",
       "      <th>reviewid</th>\n",
       "      <th>title</th>\n",
       "      <th>score</th>\n",
       "      <th>best_new_music</th>\n",
       "      <th>author</th>\n",
       "      <th>author_type</th>\n",
       "      <th>pub_date</th>\n",
       "      <th>pub_year</th>\n",
       "      <th>content</th>\n",
       "      <th>genre</th>\n",
       "      <th>label</th>\n",
       "      <th>artist</th>\n",
       "    </tr>\n",
       "  </thead>\n",
       "  <tbody>\n",
       "    <tr>\n",
       "      <th>0</th>\n",
       "      <td>22703</td>\n",
       "      <td>mezzanine</td>\n",
       "      <td>93</td>\n",
       "      <td>0</td>\n",
       "      <td>nate patrin</td>\n",
       "      <td>contributor</td>\n",
       "      <td>2017-01-08</td>\n",
       "      <td>2017</td>\n",
       "      <td>“Trip-hop” eventually became a ’90s punchline,...</td>\n",
       "      <td>electronic</td>\n",
       "      <td>virgin</td>\n",
       "      <td>massive attack</td>\n",
       "    </tr>\n",
       "    <tr>\n",
       "      <th>7</th>\n",
       "      <td>22694</td>\n",
       "      <td>tehillim</td>\n",
       "      <td>70</td>\n",
       "      <td>0</td>\n",
       "      <td>andy beta</td>\n",
       "      <td>contributor</td>\n",
       "      <td>2017-01-05</td>\n",
       "      <td>2017</td>\n",
       "      <td>For the last thirty years, Israel’s electronic...</td>\n",
       "      <td>electronic</td>\n",
       "      <td>stroboscopic artefacts</td>\n",
       "      <td>yotam avni</td>\n",
       "    </tr>\n",
       "    <tr>\n",
       "      <th>24</th>\n",
       "      <td>22713</td>\n",
       "      <td>the wasp factory</td>\n",
       "      <td>73</td>\n",
       "      <td>0</td>\n",
       "      <td>brian howe</td>\n",
       "      <td>contributor</td>\n",
       "      <td>2016-12-27</td>\n",
       "      <td>2016</td>\n",
       "      <td>How do you stage an opera that mostly takes pl...</td>\n",
       "      <td>electronic</td>\n",
       "      <td>bedroom community</td>\n",
       "      <td>ben frost</td>\n",
       "    </tr>\n",
       "  </tbody>\n",
       "</table>\n",
       "</div>"
      ],
      "text/plain": [
       "    reviewid             title  score  best_new_music       author  \\\n",
       "0      22703         mezzanine     93               0  nate patrin   \n",
       "7      22694          tehillim     70               0    andy beta   \n",
       "24     22713  the wasp factory     73               0   brian howe   \n",
       "\n",
       "    author_type    pub_date  pub_year  \\\n",
       "0   contributor  2017-01-08      2017   \n",
       "7   contributor  2017-01-05      2017   \n",
       "24  contributor  2016-12-27      2016   \n",
       "\n",
       "                                              content       genre  \\\n",
       "0   “Trip-hop” eventually became a ’90s punchline,...  electronic   \n",
       "7   For the last thirty years, Israel’s electronic...  electronic   \n",
       "24  How do you stage an opera that mostly takes pl...  electronic   \n",
       "\n",
       "                     label          artist  \n",
       "0                   virgin  massive attack  \n",
       "7   stroboscopic artefacts      yotam avni  \n",
       "24       bedroom community       ben frost  "
      ]
     },
     "execution_count": 379,
     "metadata": {},
     "output_type": "execute_result"
    }
   ],
   "source": [
    "# Another Solution to separating the genres, but takes longer to do compared to the first solution\n",
    "electronic = (subdata['genre'] == 'electronic')\n",
    "electronic_data = subdata[electronic]\n",
    "electronic_data.head(3)"
   ]
  },
  {
   "cell_type": "markdown",
   "metadata": {},
   "source": [
    "### Best New Music scores through the years"
   ]
  },
  {
   "cell_type": "code",
   "execution_count": 380,
   "metadata": {},
   "outputs": [
    {
     "data": {
      "text/html": [
       "<div>\n",
       "<style scoped>\n",
       "    .dataframe tbody tr th:only-of-type {\n",
       "        vertical-align: middle;\n",
       "    }\n",
       "\n",
       "    .dataframe tbody tr th {\n",
       "        vertical-align: top;\n",
       "    }\n",
       "\n",
       "    .dataframe thead th {\n",
       "        text-align: right;\n",
       "    }\n",
       "</style>\n",
       "<table border=\"1\" class=\"dataframe\">\n",
       "  <thead>\n",
       "    <tr style=\"text-align: right;\">\n",
       "      <th></th>\n",
       "      <th>reviewid</th>\n",
       "      <th>title</th>\n",
       "      <th>score</th>\n",
       "      <th>best_new_music</th>\n",
       "      <th>author</th>\n",
       "      <th>author_type</th>\n",
       "      <th>pub_date</th>\n",
       "      <th>pub_year</th>\n",
       "      <th>content</th>\n",
       "      <th>genre</th>\n",
       "      <th>label</th>\n",
       "      <th>artist</th>\n",
       "    </tr>\n",
       "  </thead>\n",
       "  <tbody>\n",
       "    <tr>\n",
       "      <th>3</th>\n",
       "      <td>22661</td>\n",
       "      <td>first songs</td>\n",
       "      <td>90</td>\n",
       "      <td>1</td>\n",
       "      <td>jenn pelly</td>\n",
       "      <td>associate reviews editor</td>\n",
       "      <td>2017-01-06</td>\n",
       "      <td>2017</td>\n",
       "      <td>Kleenex began with a crash. It transpired one ...</td>\n",
       "      <td>rock</td>\n",
       "      <td>kill rock stars</td>\n",
       "      <td>kleenex, liliput</td>\n",
       "    </tr>\n",
       "    <tr>\n",
       "      <th>11</th>\n",
       "      <td>22745</td>\n",
       "      <td>run the jewels 3</td>\n",
       "      <td>86</td>\n",
       "      <td>1</td>\n",
       "      <td>sheldon pearce</td>\n",
       "      <td>associate staff writer</td>\n",
       "      <td>2017-01-03</td>\n",
       "      <td>2017</td>\n",
       "      <td>On 2006’s “That’s Life,” Killer Mike boasted “...</td>\n",
       "      <td>rap</td>\n",
       "      <td>self-released</td>\n",
       "      <td>run the jewels</td>\n",
       "    </tr>\n",
       "    <tr>\n",
       "      <th>28</th>\n",
       "      <td>22707</td>\n",
       "      <td>swiss radio days vol. 41 - zurich 1961</td>\n",
       "      <td>90</td>\n",
       "      <td>1</td>\n",
       "      <td>seth colter-walls</td>\n",
       "      <td>contributor</td>\n",
       "      <td>2016-12-22</td>\n",
       "      <td>2016</td>\n",
       "      <td>All is not well with Ray Charles’ catalog nowa...</td>\n",
       "      <td>jazz</td>\n",
       "      <td>challenge</td>\n",
       "      <td>ray charles</td>\n",
       "    </tr>\n",
       "  </tbody>\n",
       "</table>\n",
       "</div>"
      ],
      "text/plain": [
       "    reviewid                                   title  score  best_new_music  \\\n",
       "3      22661                             first songs     90               1   \n",
       "11     22745                        run the jewels 3     86               1   \n",
       "28     22707  swiss radio days vol. 41 - zurich 1961     90               1   \n",
       "\n",
       "               author               author_type    pub_date  pub_year  \\\n",
       "3          jenn pelly  associate reviews editor  2017-01-06      2017   \n",
       "11     sheldon pearce    associate staff writer  2017-01-03      2017   \n",
       "28  seth colter-walls               contributor  2016-12-22      2016   \n",
       "\n",
       "                                              content genre            label  \\\n",
       "3   Kleenex began with a crash. It transpired one ...  rock  kill rock stars   \n",
       "11  On 2006’s “That’s Life,” Killer Mike boasted “...   rap    self-released   \n",
       "28  All is not well with Ray Charles’ catalog nowa...  jazz        challenge   \n",
       "\n",
       "              artist  \n",
       "3   kleenex, liliput  \n",
       "11    run the jewels  \n",
       "28       ray charles  "
      ]
     },
     "execution_count": 380,
     "metadata": {},
     "output_type": "execute_result"
    }
   ],
   "source": [
    "best_new_music = raw_data[raw_data['best_new_music'] == 1] # grab all the rows with a 1 that represents it got best new music by Pitchfork\n",
    "best_new_music.head(3)"
   ]
  },
  {
   "cell_type": "code",
   "execution_count": 381,
   "metadata": {},
   "outputs": [
    {
     "data": {
      "text/plain": [
       "array([2017, 2016, 2015, 2014, 2013, 2012, 2011, 2010, 2009, 2008, 2007,\n",
       "       2006, 2005, 2004, 2003], dtype=int64)"
      ]
     },
     "execution_count": 381,
     "metadata": {},
     "output_type": "execute_result"
    }
   ],
   "source": [
    "best_new_music['pub_year'].unique() # find out the years range for best new music"
   ]
  },
  {
   "cell_type": "code",
   "execution_count": 382,
   "metadata": {},
   "outputs": [
    {
     "data": {
      "text/plain": [
       "([<matplotlib.axis.XTick at 0x15c19c5f3c8>,\n",
       "  <matplotlib.axis.XTick at 0x15c19c57630>,\n",
       "  <matplotlib.axis.XTick at 0x15c19c57e10>,\n",
       "  <matplotlib.axis.XTick at 0x15c19c96a20>,\n",
       "  <matplotlib.axis.XTick at 0x15c19c96ef0>,\n",
       "  <matplotlib.axis.XTick at 0x15c19c9c400>,\n",
       "  <matplotlib.axis.XTick at 0x15c19c9c8d0>,\n",
       "  <matplotlib.axis.XTick at 0x15c19c9cda0>,\n",
       "  <matplotlib.axis.XTick at 0x15c19ca32b0>,\n",
       "  <matplotlib.axis.XTick at 0x15c19ca3780>,\n",
       "  <matplotlib.axis.XTick at 0x15c19c9c898>,\n",
       "  <matplotlib.axis.XTick at 0x15c19c96ac8>,\n",
       "  <matplotlib.axis.XTick at 0x15c19ca3400>,\n",
       "  <matplotlib.axis.XTick at 0x15c19cab1d0>],\n",
       " <a list of 14 Text xticklabel objects>)"
      ]
     },
     "execution_count": 382,
     "metadata": {},
     "output_type": "execute_result"
    },
    {
     "data": {
      "image/png": "[encoded data removed]",
      "text/plain": [
       "<Figure size 720x720 with 1 Axes>"
      ]
     },
     "metadata": {
      "needs_background": "light"
     },
     "output_type": "display_data"
    }
   ],
   "source": [
    "x = best_new_music['pub_year']\n",
    "y = best_new_music['score']\n",
    "\n",
    "plt.figure(figsize = (10, 10))\n",
    "plt.plot(x, y, 'b.')\n",
    "plt.xticks(np.arange(2003, 2017))"
   ]
  },
  {
   "cell_type": "markdown",
   "metadata": {},
   "source": [
    "### Best Music Labels"
   ]
  },
  {
   "cell_type": "code",
   "execution_count": 383,
   "metadata": {},
   "outputs": [
    {
     "data": {
      "text/plain": [
       "self-released            420\n",
       "drag city                269\n",
       "sub pop                  266\n",
       "thrill jockey            244\n",
       "merge                    239\n",
       "warp                     209\n",
       "domino                   204\n",
       "matador                  202\n",
       "columbia                 199\n",
       "mute                     159\n",
       "warner bros.             154\n",
       "astralwerks              149\n",
       "jagjaguwar               145\n",
       "interscope               137\n",
       "secretly canadian        131\n",
       "atlantic                 130\n",
       "4ad                      123\n",
       "kranky                   115\n",
       "rough trade              113\n",
       "capitol                  108\n",
       "polyvinyl                107\n",
       "virgin                   103\n",
       "def jam                  102\n",
       "xl                       101\n",
       "temporary residence       97\n",
       "relapse                   93\n",
       "stones throw              91\n",
       "anti-                     90\n",
       "kill rock stars           90\n",
       "ninja tune                89\n",
       "                        ... \n",
       "strange lane               1\n",
       "madrona                    1\n",
       "trax                       1\n",
       "fayettenam                 1\n",
       "grob                       1\n",
       "non                        1\n",
       "brainbandits               1\n",
       "obscureme                  1\n",
       "zappa                      1\n",
       "acphale / weird world      1\n",
       "young adults               1\n",
       "fourth wave                1\n",
       "facemob                    1\n",
       "willie anderson            1\n",
       "queen diva                 1\n",
       "picturebox                 1\n",
       "tiny telephone             1\n",
       "foreign leisure            1\n",
       "o genesis                  1\n",
       "camera                     1\n",
       "iso                        1\n",
       "kay-dee                    1\n",
       "agenda                     1\n",
       "hackensaw boys             1\n",
       "cobra                      1\n",
       "src                        1\n",
       "semishugure                1\n",
       "corleone                   1\n",
       "rfi france                 1\n",
       "janus                      1\n",
       "Name: label, Length: 3233, dtype: int64"
      ]
     },
     "execution_count": 383,
     "metadata": {},
     "output_type": "execute_result"
    }
   ],
   "source": [
    "raw_data['label'].value_counts()"
   ]
  },
  {
   "cell_type": "code",
   "execution_count": 384,
   "metadata": {},
   "outputs": [
    {
     "data": {
      "text/html": [
       "<div>\n",
       "<style scoped>\n",
       "    .dataframe tbody tr th:only-of-type {\n",
       "        vertical-align: middle;\n",
       "    }\n",
       "\n",
       "    .dataframe tbody tr th {\n",
       "        vertical-align: top;\n",
       "    }\n",
       "\n",
       "    .dataframe thead th {\n",
       "        text-align: right;\n",
       "    }\n",
       "</style>\n",
       "<table border=\"1\" class=\"dataframe\">\n",
       "  <thead>\n",
       "    <tr style=\"text-align: right;\">\n",
       "      <th></th>\n",
       "      <th>label name</th>\n",
       "      <th>total score</th>\n",
       "      <th>total albums</th>\n",
       "      <th>average score</th>\n",
       "    </tr>\n",
       "  </thead>\n",
       "  <tbody>\n",
       "  </tbody>\n",
       "</table>\n",
       "</div>"
      ],
      "text/plain": [
       "Empty DataFrame\n",
       "Columns: [label name, total score, total albums, average score]\n",
       "Index: []"
      ]
     },
     "execution_count": 384,
     "metadata": {},
     "output_type": "execute_result"
    }
   ],
   "source": [
    "label_data = pd.DataFrame(columns = ['label name', 'total score', 'total albums', 'average score'])\n",
    "label_data.head()"
   ]
  },
  {
   "cell_type": "code",
   "execution_count": 385,
   "metadata": {},
   "outputs": [],
   "source": [
    "# Grab the label names first \n",
    "label_names = []\n",
    "for i in raw_data['label'].index:\n",
    "    name = raw_data.loc[i, 'label']\n",
    "    \n",
    "    if name in label_names:\n",
    "        continue;\n",
    "    else:\n",
    "        label_names.append(name)"
   ]
  },
  {
   "cell_type": "code",
   "execution_count": 386,
   "metadata": {},
   "outputs": [
    {
     "data": {
      "text/html": [
       "<div>\n",
       "<style scoped>\n",
       "    .dataframe tbody tr th:only-of-type {\n",
       "        vertical-align: middle;\n",
       "    }\n",
       "\n",
       "    .dataframe tbody tr th {\n",
       "        vertical-align: top;\n",
       "    }\n",
       "\n",
       "    .dataframe thead th {\n",
       "        text-align: right;\n",
       "    }\n",
       "</style>\n",
       "<table border=\"1\" class=\"dataframe\">\n",
       "  <thead>\n",
       "    <tr style=\"text-align: right;\">\n",
       "      <th></th>\n",
       "      <th>label name</th>\n",
       "      <th>total score</th>\n",
       "      <th>total albums</th>\n",
       "      <th>average score</th>\n",
       "    </tr>\n",
       "  </thead>\n",
       "  <tbody>\n",
       "    <tr>\n",
       "      <th>0</th>\n",
       "      <td>virgin</td>\n",
       "      <td>NaN</td>\n",
       "      <td>NaN</td>\n",
       "      <td>NaN</td>\n",
       "    </tr>\n",
       "    <tr>\n",
       "      <th>1</th>\n",
       "      <td>hathenter</td>\n",
       "      <td>NaN</td>\n",
       "      <td>NaN</td>\n",
       "      <td>NaN</td>\n",
       "    </tr>\n",
       "    <tr>\n",
       "      <th>2</th>\n",
       "      <td>static shock</td>\n",
       "      <td>NaN</td>\n",
       "      <td>NaN</td>\n",
       "      <td>NaN</td>\n",
       "    </tr>\n",
       "    <tr>\n",
       "      <th>3</th>\n",
       "      <td>kill rock stars</td>\n",
       "      <td>NaN</td>\n",
       "      <td>NaN</td>\n",
       "      <td>NaN</td>\n",
       "    </tr>\n",
       "    <tr>\n",
       "      <th>4</th>\n",
       "      <td>teklife</td>\n",
       "      <td>NaN</td>\n",
       "      <td>NaN</td>\n",
       "      <td>NaN</td>\n",
       "    </tr>\n",
       "  </tbody>\n",
       "</table>\n",
       "</div>"
      ],
      "text/plain": [
       "        label name total score total albums average score\n",
       "0           virgin         NaN          NaN           NaN\n",
       "1        hathenter         NaN          NaN           NaN\n",
       "2     static shock         NaN          NaN           NaN\n",
       "3  kill rock stars         NaN          NaN           NaN\n",
       "4          teklife         NaN          NaN           NaN"
      ]
     },
     "execution_count": 386,
     "metadata": {},
     "output_type": "execute_result"
    }
   ],
   "source": [
    "label_data['label name'] = label_names\n",
    "label_data.head()"
   ]
  },
  {
   "cell_type": "code",
   "execution_count": 387,
   "metadata": {},
   "outputs": [],
   "source": [
    "scores = []\n",
    "total_albums = []\n",
    "for i in label_data['label name']:\n",
    "    temp_data = raw_data[raw_data['label'] == i]\n",
    "    temp_score = temp_data['score'].sum()\n",
    "    temp_album = len(temp_data)\n",
    "    \n",
    "    scores.append(temp_score)\n",
    "    total_albums.append(temp_album)"
   ]
  },
  {
   "cell_type": "code",
   "execution_count": 388,
   "metadata": {},
   "outputs": [
    {
     "data": {
      "text/html": [
       "<div>\n",
       "<style scoped>\n",
       "    .dataframe tbody tr th:only-of-type {\n",
       "        vertical-align: middle;\n",
       "    }\n",
       "\n",
       "    .dataframe tbody tr th {\n",
       "        vertical-align: top;\n",
       "    }\n",
       "\n",
       "    .dataframe thead th {\n",
       "        text-align: right;\n",
       "    }\n",
       "</style>\n",
       "<table border=\"1\" class=\"dataframe\">\n",
       "  <thead>\n",
       "    <tr style=\"text-align: right;\">\n",
       "      <th></th>\n",
       "      <th>label name</th>\n",
       "      <th>total score</th>\n",
       "      <th>total albums</th>\n",
       "      <th>average score</th>\n",
       "    </tr>\n",
       "  </thead>\n",
       "  <tbody>\n",
       "    <tr>\n",
       "      <th>0</th>\n",
       "      <td>virgin</td>\n",
       "      <td>6617</td>\n",
       "      <td>103</td>\n",
       "      <td>64.242718</td>\n",
       "    </tr>\n",
       "    <tr>\n",
       "      <th>1</th>\n",
       "      <td>hathenter</td>\n",
       "      <td>79</td>\n",
       "      <td>1</td>\n",
       "      <td>79.000000</td>\n",
       "    </tr>\n",
       "    <tr>\n",
       "      <th>2</th>\n",
       "      <td>static shock</td>\n",
       "      <td>156</td>\n",
       "      <td>2</td>\n",
       "      <td>78.000000</td>\n",
       "    </tr>\n",
       "    <tr>\n",
       "      <th>3</th>\n",
       "      <td>kill rock stars</td>\n",
       "      <td>6321</td>\n",
       "      <td>90</td>\n",
       "      <td>70.233333</td>\n",
       "    </tr>\n",
       "    <tr>\n",
       "      <th>4</th>\n",
       "      <td>teklife</td>\n",
       "      <td>222</td>\n",
       "      <td>3</td>\n",
       "      <td>74.000000</td>\n",
       "    </tr>\n",
       "  </tbody>\n",
       "</table>\n",
       "</div>"
      ],
      "text/plain": [
       "        label name  total score  total albums  average score\n",
       "0           virgin         6617           103      64.242718\n",
       "1        hathenter           79             1      79.000000\n",
       "2     static shock          156             2      78.000000\n",
       "3  kill rock stars         6321            90      70.233333\n",
       "4          teklife          222             3      74.000000"
      ]
     },
     "execution_count": 388,
     "metadata": {},
     "output_type": "execute_result"
    }
   ],
   "source": [
    "label_data['total score'] = scores\n",
    "label_data['total albums'] = total_albums\n",
    "label_data['average score'] = label_data['total score'] / label_data['total albums']\n",
    "\n",
    "label_data.head()"
   ]
  },
  {
   "cell_type": "markdown",
   "metadata": {},
   "source": [
    "##### Top 20 labels based on having at least 10 albums reviewed and average score\n"
   ]
  },
  {
   "cell_type": "code",
   "execution_count": 389,
   "metadata": {},
   "outputs": [
    {
     "data": {
      "text/plain": [
       "108           dust-to-digital\n",
       "1606             hip-o select\n",
       "141                      stax\n",
       "2366                   ~scape\n",
       "2053    table of the elements\n",
       "81                modern love\n",
       "178     paradise of bachelors\n",
       "1821                   tzadik\n",
       "273                       mca\n",
       "723           sincerely yours\n",
       "166      what's your rupture?\n",
       "15                  soul jazz\n",
       "101        light in the attic\n",
       "48               numero group\n",
       "640                     touch\n",
       "215                       ecm\n",
       "44                     legacy\n",
       "151              20 buck spin\n",
       "227                    motown\n",
       "386                 young god\n",
       "Name: label name, dtype: object"
      ]
     },
     "execution_count": 389,
     "metadata": {},
     "output_type": "execute_result"
    }
   ],
   "source": [
    "label_data[label_data['total albums'] >= 10]\\\n",
    "    .sort_values(by = 'average score', ascending = False)[:20]['label name']"
   ]
  },
  {
   "cell_type": "markdown",
   "metadata": {},
   "source": [
    "## Create new dataframe: Find the total score, total albums, average score, genre of all artists"
   ]
  },
  {
   "cell_type": "code",
   "execution_count": 390,
   "metadata": {},
   "outputs": [
    {
     "data": {
      "text/html": [
       "<div>\n",
       "<style scoped>\n",
       "    .dataframe tbody tr th:only-of-type {\n",
       "        vertical-align: middle;\n",
       "    }\n",
       "\n",
       "    .dataframe tbody tr th {\n",
       "        vertical-align: top;\n",
       "    }\n",
       "\n",
       "    .dataframe thead th {\n",
       "        text-align: right;\n",
       "    }\n",
       "</style>\n",
       "<table border=\"1\" class=\"dataframe\">\n",
       "  <thead>\n",
       "    <tr style=\"text-align: right;\">\n",
       "      <th></th>\n",
       "      <th>Artist</th>\n",
       "      <th>Total Score</th>\n",
       "      <th>Total Albums</th>\n",
       "      <th>Average Score</th>\n",
       "      <th>Genre</th>\n",
       "    </tr>\n",
       "  </thead>\n",
       "  <tbody>\n",
       "  </tbody>\n",
       "</table>\n",
       "</div>"
      ],
      "text/plain": [
       "Empty DataFrame\n",
       "Columns: [Artist, Total Score, Total Albums, Average Score, Genre]\n",
       "Index: []"
      ]
     },
     "execution_count": 390,
     "metadata": {},
     "output_type": "execute_result"
    }
   ],
   "source": [
    "artist_data = pd.DataFrame(columns = ['Artist', 'Total Score', 'Total Albums', 'Average Score', 'Genre'])\n",
    "artist_data"
   ]
  },
  {
   "cell_type": "code",
   "execution_count": 391,
   "metadata": {},
   "outputs": [],
   "source": [
    "# Grab the artist names first \n",
    "artist_names = []\n",
    "for i in raw_data['artist'].index:\n",
    "    name = raw_data.loc[i, 'artist']\n",
    "    \n",
    "    if name in artist_names:\n",
    "        continue;\n",
    "    else:\n",
    "        artist_names.append(name)"
   ]
  },
  {
   "cell_type": "code",
   "execution_count": 392,
   "metadata": {},
   "outputs": [
    {
     "data": {
      "text/html": [
       "<div>\n",
       "<style scoped>\n",
       "    .dataframe tbody tr th:only-of-type {\n",
       "        vertical-align: middle;\n",
       "    }\n",
       "\n",
       "    .dataframe tbody tr th {\n",
       "        vertical-align: top;\n",
       "    }\n",
       "\n",
       "    .dataframe thead th {\n",
       "        text-align: right;\n",
       "    }\n",
       "</style>\n",
       "<table border=\"1\" class=\"dataframe\">\n",
       "  <thead>\n",
       "    <tr style=\"text-align: right;\">\n",
       "      <th></th>\n",
       "      <th>Artist</th>\n",
       "      <th>Total Score</th>\n",
       "      <th>Total Albums</th>\n",
       "      <th>Average Score</th>\n",
       "      <th>Genre</th>\n",
       "    </tr>\n",
       "  </thead>\n",
       "  <tbody>\n",
       "    <tr>\n",
       "      <th>0</th>\n",
       "      <td>massive attack</td>\n",
       "      <td>NaN</td>\n",
       "      <td>NaN</td>\n",
       "      <td>NaN</td>\n",
       "      <td>NaN</td>\n",
       "    </tr>\n",
       "    <tr>\n",
       "      <th>1</th>\n",
       "      <td>krallice</td>\n",
       "      <td>NaN</td>\n",
       "      <td>NaN</td>\n",
       "      <td>NaN</td>\n",
       "      <td>NaN</td>\n",
       "    </tr>\n",
       "    <tr>\n",
       "      <th>2</th>\n",
       "      <td>uranium club</td>\n",
       "      <td>NaN</td>\n",
       "      <td>NaN</td>\n",
       "      <td>NaN</td>\n",
       "      <td>NaN</td>\n",
       "    </tr>\n",
       "  </tbody>\n",
       "</table>\n",
       "</div>"
      ],
      "text/plain": [
       "           Artist Total Score Total Albums Average Score Genre\n",
       "0  massive attack         NaN          NaN           NaN   NaN\n",
       "1        krallice         NaN          NaN           NaN   NaN\n",
       "2    uranium club         NaN          NaN           NaN   NaN"
      ]
     },
     "execution_count": 392,
     "metadata": {},
     "output_type": "execute_result"
    }
   ],
   "source": [
    "artist_data['Artist'] = artist_names\n",
    "artist_data.head(3)"
   ]
  },
  {
   "cell_type": "code",
   "execution_count": 393,
   "metadata": {},
   "outputs": [],
   "source": [
    "artist_data.drop(2731, inplace = True)"
   ]
  },
  {
   "cell_type": "code",
   "execution_count": null,
   "metadata": {},
   "outputs": [],
   "source": [
    "scores = []\n",
    "total_albums = []\n",
    "genres = []\n",
    "for i in artist_data['Artist']:\n",
    "    temp_data = raw_data[raw_data['artist'] == i]\n",
    "    temp_score = temp_data['score'].sum()\n",
    "    temp_album = len(temp_data)\n",
    "    temp_genre = (temp_data['genre']).value_counts().index[0]\n",
    "    \n",
    "    scores.append(temp_score)\n",
    "    total_albums.append(temp_album)\n",
    "    genres.append(temp_genre)"
   ]
  },
  {
   "cell_type": "code",
   "execution_count": null,
   "metadata": {},
   "outputs": [],
   "source": [
    "artist_data['Total Score'] = scores\n",
    "artist_data['Total Albums'] = total_albums\n",
    "artist_data['Genre'] = genres"
   ]
  },
  {
   "cell_type": "code",
   "execution_count": null,
   "metadata": {},
   "outputs": [],
   "source": [
    "# Get the average score for each artist\n",
    "artist_data['Average Score'] = artist_data['Total Score'] / artist_data['Total Albums']\n",
    "artist_data.head(3)"
   ]
  },
  {
   "cell_type": "markdown",
   "metadata": {},
   "source": [
    "### Score differences between genres"
   ]
  },
  {
   "cell_type": "code",
   "execution_count": null,
   "metadata": {},
   "outputs": [],
   "source": [
    "artist_data.hist('Average Score', 'genre', figsize = (20, 10), bins = 10)"
   ]
  },
  {
   "cell_type": "markdown",
   "metadata": {},
   "source": [
    "### Top 50 Best & Worst reviewed artists based on average score"
   ]
  },
  {
   "cell_type": "code",
   "execution_count": null,
   "metadata": {},
   "outputs": [],
   "source": [
    "best_artists = artist_data.sort_values(by = 'Average Score', ascending = False)[:50]"
   ]
  },
  {
   "cell_type": "code",
   "execution_count": null,
   "metadata": {},
   "outputs": [],
   "source": [
    "plt.figure(figsize=(10,10))\n",
    "plt.barh(best_artists['Artist'], best_artists['Average Score'])"
   ]
  },
  {
   "cell_type": "code",
   "execution_count": null,
   "metadata": {},
   "outputs": [],
   "source": [
    "worst_artists = artist_data.sort_values(by = 'Average Score', ascending = True)[:50]"
   ]
  },
  {
   "cell_type": "code",
   "execution_count": null,
   "metadata": {},
   "outputs": [],
   "source": [
    "plt.figure(figsize=(10,10))\n",
    "plt.barh(worst_artists['Artist'], worst_artists['Average Score'])"
   ]
  },
  {
   "cell_type": "code",
   "execution_count": null,
   "metadata": {},
   "outputs": [],
   "source": []
  }
 ],
 "metadata": {
  "kernelspec": {
   "display_name": "Python 3",
   "language": "python",
   "name": "python3"
  },
  "language_info": {
   "codemirror_mode": {
    "name": "ipython",
    "version": 3
   },
   "file_extension": ".py",
   "mimetype": "text/x-python",
   "name": "python",
   "nbconvert_exporter": "python",
   "pygments_lexer": "ipython3",
   "version": "3.7.3"
  }
 },
 "nbformat": 4,
 "nbformat_minor": 1
}
