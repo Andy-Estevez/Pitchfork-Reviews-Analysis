{
 "cells": [
  {
   "cell_type": "markdown",
   "metadata": {},
   "source": [
    "# Things to add to the Project:\n",
    "\n",
    "1. Word Clouds\n",
    "2. Best reviewed artists for genres\n",
    "3. Worst reviewed artists for genres\n",
    "4. Score differences between genres\n",
    "5. Top reviewers scores for albums\n",
    "6. Top reviewers scores by genre & differences\n",
    "7. Music Labels scores"
   ]
  },
  {
   "cell_type": "code",
   "execution_count": 2,
   "metadata": {
    "_cell_guid": "b1076dfc-b9ad-4769-8c92-a6c4dae69d19",
    "_uuid": "8f2839f25d086af736a60e9eeb907d3b93b6e0e5"
   },
   "outputs": [],
   "source": [
    "import numpy as np # linear algebra\n",
    "import pandas as pd # data processing, CSV file I/O (e.g. pd.read_csv)\n",
    "import matplotlib.pyplot as plt # for plotting"
   ]
  },
  {
   "cell_type": "code",
   "execution_count": 3,
   "metadata": {},
   "outputs": [],
   "source": [
    "# Download the dataset from Kaggle at https://www.kaggle.com/bcyphers/pitchfork-reviews/download\n",
    "# Extract the zip and retrieve \"reviews.csv\""
   ]
  },
  {
   "cell_type": "code",
   "execution_count": 4,
   "metadata": {
    "_cell_guid": "79c7e3d0-c299-4dcb-8224-4455121ee9b0",
    "_uuid": "d629ff2d2480ee46fbb7e2d37f6b5fab8052498a"
   },
   "outputs": [
    {
     "data": {
      "text/html": [
       "<div>\n",
       "<style scoped>\n",
       "    .dataframe tbody tr th:only-of-type {\n",
       "        vertical-align: middle;\n",
       "    }\n",
       "\n",
       "    .dataframe tbody tr th {\n",
       "        vertical-align: top;\n",
       "    }\n",
       "\n",
       "    .dataframe thead th {\n",
       "        text-align: right;\n",
       "    }\n",
       "</style>\n",
       "<table border=\"1\" class=\"dataframe\">\n",
       "  <thead>\n",
       "    <tr style=\"text-align: right;\">\n",
       "      <th></th>\n",
       "      <th>reviewid</th>\n",
       "      <th>Unnamed: 0</th>\n",
       "      <th>title</th>\n",
       "      <th>url</th>\n",
       "      <th>score</th>\n",
       "      <th>best_new_music</th>\n",
       "      <th>author</th>\n",
       "      <th>author_type</th>\n",
       "      <th>pub_date</th>\n",
       "      <th>pub_weekday</th>\n",
       "      <th>pub_day</th>\n",
       "      <th>pub_month</th>\n",
       "      <th>pub_year</th>\n",
       "      <th>reviewid.1</th>\n",
       "      <th>content</th>\n",
       "      <th>genre</th>\n",
       "      <th>label</th>\n",
       "      <th>artist</th>\n",
       "    </tr>\n",
       "  </thead>\n",
       "  <tbody>\n",
       "    <tr>\n",
       "      <th>0</th>\n",
       "      <td>22703</td>\n",
       "      <td>0</td>\n",
       "      <td>mezzanine</td>\n",
       "      <td>http://pitchfork.com/reviews/albums/22703-mezz...</td>\n",
       "      <td>9.3</td>\n",
       "      <td>0</td>\n",
       "      <td>nate patrin</td>\n",
       "      <td>contributor</td>\n",
       "      <td>2017-01-08</td>\n",
       "      <td>6</td>\n",
       "      <td>8</td>\n",
       "      <td>1</td>\n",
       "      <td>2017</td>\n",
       "      <td>22703</td>\n",
       "      <td>“Trip-hop” eventually became a ’90s punchline,...</td>\n",
       "      <td>electronic</td>\n",
       "      <td>virgin</td>\n",
       "      <td>massive attack</td>\n",
       "    </tr>\n",
       "    <tr>\n",
       "      <th>1</th>\n",
       "      <td>22721</td>\n",
       "      <td>1</td>\n",
       "      <td>prelapsarian</td>\n",
       "      <td>http://pitchfork.com/reviews/albums/22721-prel...</td>\n",
       "      <td>7.9</td>\n",
       "      <td>0</td>\n",
       "      <td>zoe camp</td>\n",
       "      <td>contributor</td>\n",
       "      <td>2017-01-07</td>\n",
       "      <td>5</td>\n",
       "      <td>7</td>\n",
       "      <td>1</td>\n",
       "      <td>2017</td>\n",
       "      <td>22721</td>\n",
       "      <td>Eight years, five albums, and two EPs in, the ...</td>\n",
       "      <td>metal</td>\n",
       "      <td>hathenter</td>\n",
       "      <td>krallice</td>\n",
       "    </tr>\n",
       "    <tr>\n",
       "      <th>2</th>\n",
       "      <td>22659</td>\n",
       "      <td>2</td>\n",
       "      <td>all of them naturals</td>\n",
       "      <td>http://pitchfork.com/reviews/albums/22659-all-...</td>\n",
       "      <td>7.3</td>\n",
       "      <td>0</td>\n",
       "      <td>david glickman</td>\n",
       "      <td>contributor</td>\n",
       "      <td>2017-01-07</td>\n",
       "      <td>5</td>\n",
       "      <td>7</td>\n",
       "      <td>1</td>\n",
       "      <td>2017</td>\n",
       "      <td>22659</td>\n",
       "      <td>Minneapolis’ Uranium Club seem to revel in bei...</td>\n",
       "      <td>rock</td>\n",
       "      <td>static shock</td>\n",
       "      <td>uranium club</td>\n",
       "    </tr>\n",
       "  </tbody>\n",
       "</table>\n",
       "</div>"
      ],
      "text/plain": [
       "   reviewid  Unnamed: 0                 title  \\\n",
       "0     22703           0             mezzanine   \n",
       "1     22721           1          prelapsarian   \n",
       "2     22659           2  all of them naturals   \n",
       "\n",
       "                                                 url  score  best_new_music  \\\n",
       "0  http://pitchfork.com/reviews/albums/22703-mezz...    9.3               0   \n",
       "1  http://pitchfork.com/reviews/albums/22721-prel...    7.9               0   \n",
       "2  http://pitchfork.com/reviews/albums/22659-all-...    7.3               0   \n",
       "\n",
       "           author  author_type    pub_date  pub_weekday  pub_day  pub_month  \\\n",
       "0     nate patrin  contributor  2017-01-08            6        8          1   \n",
       "1        zoe camp  contributor  2017-01-07            5        7          1   \n",
       "2  david glickman  contributor  2017-01-07            5        7          1   \n",
       "\n",
       "   pub_year  reviewid.1                                            content  \\\n",
       "0      2017       22703  “Trip-hop” eventually became a ’90s punchline,...   \n",
       "1      2017       22721  Eight years, five albums, and two EPs in, the ...   \n",
       "2      2017       22659  Minneapolis’ Uranium Club seem to revel in bei...   \n",
       "\n",
       "        genre         label          artist  \n",
       "0  electronic        virgin  massive attack  \n",
       "1       metal     hathenter        krallice  \n",
       "2        rock  static shock    uranium club  "
      ]
     },
     "execution_count": 4,
     "metadata": {},
     "output_type": "execute_result"
    }
   ],
   "source": [
    "raw_data = pd.read_csv(\"C:/Users/Home/Downloads/reviews.csv/reviews.csv\")\n",
    "raw_data.head(3)"
   ]
  },
  {
   "cell_type": "code",
   "execution_count": 5,
   "metadata": {},
   "outputs": [
    {
     "data": {
      "text/html": [
       "<div>\n",
       "<style scoped>\n",
       "    .dataframe tbody tr th:only-of-type {\n",
       "        vertical-align: middle;\n",
       "    }\n",
       "\n",
       "    .dataframe tbody tr th {\n",
       "        vertical-align: top;\n",
       "    }\n",
       "\n",
       "    .dataframe thead th {\n",
       "        text-align: right;\n",
       "    }\n",
       "</style>\n",
       "<table border=\"1\" class=\"dataframe\">\n",
       "  <thead>\n",
       "    <tr style=\"text-align: right;\">\n",
       "      <th></th>\n",
       "      <th>reviewid</th>\n",
       "      <th>title</th>\n",
       "      <th>score</th>\n",
       "      <th>best_new_music</th>\n",
       "      <th>author</th>\n",
       "      <th>author_type</th>\n",
       "      <th>pub_date</th>\n",
       "      <th>pub_year</th>\n",
       "      <th>content</th>\n",
       "      <th>genre</th>\n",
       "      <th>label</th>\n",
       "      <th>artist</th>\n",
       "    </tr>\n",
       "  </thead>\n",
       "  <tbody>\n",
       "    <tr>\n",
       "      <th>0</th>\n",
       "      <td>22703</td>\n",
       "      <td>mezzanine</td>\n",
       "      <td>9.3</td>\n",
       "      <td>0</td>\n",
       "      <td>nate patrin</td>\n",
       "      <td>contributor</td>\n",
       "      <td>2017-01-08</td>\n",
       "      <td>2017</td>\n",
       "      <td>“Trip-hop” eventually became a ’90s punchline,...</td>\n",
       "      <td>electronic</td>\n",
       "      <td>virgin</td>\n",
       "      <td>massive attack</td>\n",
       "    </tr>\n",
       "    <tr>\n",
       "      <th>1</th>\n",
       "      <td>22721</td>\n",
       "      <td>prelapsarian</td>\n",
       "      <td>7.9</td>\n",
       "      <td>0</td>\n",
       "      <td>zoe camp</td>\n",
       "      <td>contributor</td>\n",
       "      <td>2017-01-07</td>\n",
       "      <td>2017</td>\n",
       "      <td>Eight years, five albums, and two EPs in, the ...</td>\n",
       "      <td>metal</td>\n",
       "      <td>hathenter</td>\n",
       "      <td>krallice</td>\n",
       "    </tr>\n",
       "    <tr>\n",
       "      <th>2</th>\n",
       "      <td>22659</td>\n",
       "      <td>all of them naturals</td>\n",
       "      <td>7.3</td>\n",
       "      <td>0</td>\n",
       "      <td>david glickman</td>\n",
       "      <td>contributor</td>\n",
       "      <td>2017-01-07</td>\n",
       "      <td>2017</td>\n",
       "      <td>Minneapolis’ Uranium Club seem to revel in bei...</td>\n",
       "      <td>rock</td>\n",
       "      <td>static shock</td>\n",
       "      <td>uranium club</td>\n",
       "    </tr>\n",
       "  </tbody>\n",
       "</table>\n",
       "</div>"
      ],
      "text/plain": [
       "   reviewid                 title  score  best_new_music          author  \\\n",
       "0     22703             mezzanine    9.3               0     nate patrin   \n",
       "1     22721          prelapsarian    7.9               0        zoe camp   \n",
       "2     22659  all of them naturals    7.3               0  david glickman   \n",
       "\n",
       "   author_type    pub_date  pub_year  \\\n",
       "0  contributor  2017-01-08      2017   \n",
       "1  contributor  2017-01-07      2017   \n",
       "2  contributor  2017-01-07      2017   \n",
       "\n",
       "                                             content       genre  \\\n",
       "0  “Trip-hop” eventually became a ’90s punchline,...  electronic   \n",
       "1  Eight years, five albums, and two EPs in, the ...       metal   \n",
       "2  Minneapolis’ Uranium Club seem to revel in bei...        rock   \n",
       "\n",
       "          label          artist  \n",
       "0        virgin  massive attack  \n",
       "1     hathenter        krallice  \n",
       "2  static shock    uranium club  "
      ]
     },
     "execution_count": 5,
     "metadata": {},
     "output_type": "execute_result"
    }
   ],
   "source": [
    "# Drop columns we won't be needing\n",
    "raw_data.drop(['url', 'pub_weekday', 'pub_day', 'pub_month',  'reviewid.1', 'Unnamed: 0'], axis = 1, inplace = True)\n",
    "raw_data.head(3)"
   ]
  },
  {
   "cell_type": "code",
   "execution_count": 6,
   "metadata": {},
   "outputs": [
    {
     "data": {
      "text/plain": [
       "reviewid            int64\n",
       "title              object\n",
       "score             float64\n",
       "best_new_music      int64\n",
       "author             object\n",
       "author_type        object\n",
       "pub_date           object\n",
       "pub_year            int64\n",
       "content            object\n",
       "genre              object\n",
       "label              object\n",
       "artist             object\n",
       "dtype: object"
      ]
     },
     "execution_count": 6,
     "metadata": {},
     "output_type": "execute_result"
    }
   ],
   "source": [
    "# Check the datatypes of the dataset\n",
    "# raw_data['author'] = raw_data['author'].astype(str)\n",
    "raw_data.dtypes"
   ]
  },
  {
   "cell_type": "code",
   "execution_count": 7,
   "metadata": {},
   "outputs": [
    {
     "name": "stdout",
     "output_type": "stream",
     "text": [
      "reviewid             0\n",
      "title                2\n",
      "score                0\n",
      "best_new_music       0\n",
      "author               0\n",
      "author_type       3904\n",
      "pub_date             0\n",
      "pub_year             0\n",
      "content             10\n",
      "genre             2364\n",
      "label               47\n",
      "artist               2\n",
      "dtype: int64\n"
     ]
    }
   ],
   "source": [
    "# Check for null values in the dataset\n",
    "print(pd.isnull(raw_data).sum())"
   ]
  },
  {
   "cell_type": "markdown",
   "metadata": {},
   "source": [
    "# Change the score of albums to whole numbers"
   ]
  },
  {
   "cell_type": "code",
   "execution_count": 8,
   "metadata": {},
   "outputs": [],
   "source": [
    "# Change the score number to a whole number ranging from 1 - 100\n",
    "increase_score = raw_data['score'] * 10"
   ]
  },
  {
   "cell_type": "code",
   "execution_count": 9,
   "metadata": {},
   "outputs": [
    {
     "data": {
      "text/html": [
       "<div>\n",
       "<style scoped>\n",
       "    .dataframe tbody tr th:only-of-type {\n",
       "        vertical-align: middle;\n",
       "    }\n",
       "\n",
       "    .dataframe tbody tr th {\n",
       "        vertical-align: top;\n",
       "    }\n",
       "\n",
       "    .dataframe thead th {\n",
       "        text-align: right;\n",
       "    }\n",
       "</style>\n",
       "<table border=\"1\" class=\"dataframe\">\n",
       "  <thead>\n",
       "    <tr style=\"text-align: right;\">\n",
       "      <th></th>\n",
       "      <th>reviewid</th>\n",
       "      <th>title</th>\n",
       "      <th>score</th>\n",
       "      <th>best_new_music</th>\n",
       "      <th>author</th>\n",
       "      <th>author_type</th>\n",
       "      <th>pub_date</th>\n",
       "      <th>pub_year</th>\n",
       "      <th>content</th>\n",
       "      <th>genre</th>\n",
       "      <th>label</th>\n",
       "      <th>artist</th>\n",
       "    </tr>\n",
       "  </thead>\n",
       "  <tbody>\n",
       "    <tr>\n",
       "      <th>0</th>\n",
       "      <td>22703</td>\n",
       "      <td>mezzanine</td>\n",
       "      <td>93</td>\n",
       "      <td>0</td>\n",
       "      <td>nate patrin</td>\n",
       "      <td>contributor</td>\n",
       "      <td>2017-01-08</td>\n",
       "      <td>2017</td>\n",
       "      <td>“Trip-hop” eventually became a ’90s punchline,...</td>\n",
       "      <td>electronic</td>\n",
       "      <td>virgin</td>\n",
       "      <td>massive attack</td>\n",
       "    </tr>\n",
       "    <tr>\n",
       "      <th>1</th>\n",
       "      <td>22721</td>\n",
       "      <td>prelapsarian</td>\n",
       "      <td>79</td>\n",
       "      <td>0</td>\n",
       "      <td>zoe camp</td>\n",
       "      <td>contributor</td>\n",
       "      <td>2017-01-07</td>\n",
       "      <td>2017</td>\n",
       "      <td>Eight years, five albums, and two EPs in, the ...</td>\n",
       "      <td>metal</td>\n",
       "      <td>hathenter</td>\n",
       "      <td>krallice</td>\n",
       "    </tr>\n",
       "    <tr>\n",
       "      <th>2</th>\n",
       "      <td>22659</td>\n",
       "      <td>all of them naturals</td>\n",
       "      <td>73</td>\n",
       "      <td>0</td>\n",
       "      <td>david glickman</td>\n",
       "      <td>contributor</td>\n",
       "      <td>2017-01-07</td>\n",
       "      <td>2017</td>\n",
       "      <td>Minneapolis’ Uranium Club seem to revel in bei...</td>\n",
       "      <td>rock</td>\n",
       "      <td>static shock</td>\n",
       "      <td>uranium club</td>\n",
       "    </tr>\n",
       "  </tbody>\n",
       "</table>\n",
       "</div>"
      ],
      "text/plain": [
       "   reviewid                 title  score  best_new_music          author  \\\n",
       "0     22703             mezzanine     93               0     nate patrin   \n",
       "1     22721          prelapsarian     79               0        zoe camp   \n",
       "2     22659  all of them naturals     73               0  david glickman   \n",
       "\n",
       "   author_type    pub_date  pub_year  \\\n",
       "0  contributor  2017-01-08      2017   \n",
       "1  contributor  2017-01-07      2017   \n",
       "2  contributor  2017-01-07      2017   \n",
       "\n",
       "                                             content       genre  \\\n",
       "0  “Trip-hop” eventually became a ’90s punchline,...  electronic   \n",
       "1  Eight years, five albums, and two EPs in, the ...       metal   \n",
       "2  Minneapolis’ Uranium Club seem to revel in bei...        rock   \n",
       "\n",
       "          label          artist  \n",
       "0        virgin  massive attack  \n",
       "1     hathenter        krallice  \n",
       "2  static shock    uranium club  "
      ]
     },
     "execution_count": 9,
     "metadata": {},
     "output_type": "execute_result"
    }
   ],
   "source": [
    "raw_data['score'] = increase_score\n",
    "raw_data['score'] = raw_data['score'].astype(int)\n",
    "raw_data.head(3)"
   ]
  },
  {
   "cell_type": "markdown",
   "metadata": {},
   "source": [
    "# Create two dataframes based on if an author has less than 100 reviews/more than or equal to 100 reviews"
   ]
  },
  {
   "cell_type": "code",
   "execution_count": 10,
   "metadata": {},
   "outputs": [],
   "source": [
    "strings = raw_data['author'].value_counts()[:52].index # 52 authors over 100 reviews or more\n",
    "\n",
    "# Create a list containing the authors with >= 100 reviews\n",
    "author_names = []\n",
    "for x in strings:\n",
    "    author_names.append(x)"
   ]
  },
  {
   "cell_type": "code",
   "execution_count": 11,
   "metadata": {},
   "outputs": [
    {
     "data": {
      "text/plain": [
       "0.6833260822275397"
      ]
     },
     "execution_count": 11,
     "metadata": {},
     "output_type": "execute_result"
    }
   ],
   "source": [
    "raw_data['author'].value_counts(normalize = True)[:52].sum() # percentage of all reviews"
   ]
  },
  {
   "cell_type": "code",
   "execution_count": 12,
   "metadata": {},
   "outputs": [
    {
     "data": {
      "text/plain": [
       "52"
      ]
     },
     "execution_count": 12,
     "metadata": {},
     "output_type": "execute_result"
    }
   ],
   "source": [
    "(raw_data['author'].value_counts() >= 100).sum() # proves how many authors have over 100 reviews or more"
   ]
  },
  {
   "cell_type": "code",
   "execution_count": 13,
   "metadata": {},
   "outputs": [],
   "source": [
    "author_less = []\n",
    "strings = raw_data['author'].value_counts()[52:].index\n",
    "for x in strings:\n",
    "    author_less.append(x)"
   ]
  },
  {
   "cell_type": "code",
   "execution_count": 14,
   "metadata": {},
   "outputs": [],
   "source": [
    "# get the indices of the authors with >= 100 reviews, needed for data cleaning\n",
    "keep_indices = []\n",
    "increment = -1\n",
    "for i in raw_data['author']: # iterate through the author column of the dataframe\n",
    "    increment += 1 # increase when the iteration for the row has been complete to check if the author is in the list\n",
    "    for j in range(len(author_names)): # iterate through the names with >= 100 reviews\n",
    "        if i == author_names[j]: # check if they are the same\n",
    "           keep_indices.append(increment) # append the indice"
   ]
  },
  {
   "cell_type": "code",
   "execution_count": 15,
   "metadata": {},
   "outputs": [
    {
     "name": "stdout",
     "output_type": "stream",
     "text": [
      "12565\n",
      "12565\n"
     ]
    }
   ],
   "source": [
    "# compare if the amonut of reviews is the same as the authors total reviews with >= 100 \n",
    "print(len(keep_indices))\n",
    "print(raw_data['author'].value_counts()[:52].sum())"
   ]
  },
  {
   "cell_type": "code",
   "execution_count": 16,
   "metadata": {},
   "outputs": [],
   "source": [
    "# get the indices we want to drop\n",
    "remove_indices = []\n",
    "increment = -1\n",
    "for i in raw_data['author']:\n",
    "    increment += 1\n",
    "    for j in range(len(author_less)):\n",
    "        if i == author_less[j]:\n",
    "            remove_indices.append(increment)"
   ]
  },
  {
   "cell_type": "code",
   "execution_count": 17,
   "metadata": {},
   "outputs": [
    {
     "name": "stdout",
     "output_type": "stream",
     "text": [
      "5823\n",
      "5823\n"
     ]
    }
   ],
   "source": [
    "# compare if the amonut of reviews is the same as the authors total reviews with >= 100 \n",
    "print(len(remove_indices))\n",
    "print(raw_data['author'].value_counts()[52:].sum())"
   ]
  },
  {
   "cell_type": "code",
   "execution_count": 18,
   "metadata": {},
   "outputs": [
    {
     "data": {
      "text/plain": [
       "joe tangari             815\n",
       "stephen m. deusner      725\n",
       "ian cohen               699\n",
       "brian howe              500\n",
       "mark richardson         476\n",
       "stuart berman           445\n",
       "marc hogan              439\n",
       "nate patrin             347\n",
       "marc masters            312\n",
       "jayson greene           299\n",
       "grayson currin          289\n",
       "brandon stosuy          287\n",
       "matthew murphy          274\n",
       "dominique leone         273\n",
       "jess harvell            273\n",
       "andrew gaerig           270\n",
       "rob mitchum             267\n",
       "jason crock             267\n",
       "andy beta               249\n",
       "paul thompson           222\n",
       "larry fitzmaurice       217\n",
       "joshua klein            217\n",
       "chris dahlen            214\n",
       "nick neyland            211\n",
       "adam moerder            209\n",
       "philip sherburne        209\n",
       "tom breihan             208\n",
       "amanda petrusich        200\n",
       "matt lemay              196\n",
       "ryan dombal             174\n",
       "mike powell             160\n",
       "david raposa            155\n",
       "zach kelly              153\n",
       "sam ubl                 152\n",
       "nitsuh abebe            144\n",
       "grayson haver currin    136\n",
       "eric harvey             136\n",
       "mark richard-san        135\n",
       "william bowers          129\n",
       "douglas wolk            128\n",
       "eric carr               128\n",
       "nick sylvester          125\n",
       "scott plagenhoef        123\n",
       "paul cooper             120\n",
       "lindsay zoladz          117\n",
       "jason heller            112\n",
       "joe colly               109\n",
       "joshua love             107\n",
       "mark pytlik             106\n",
       "laura snapes            104\n",
       "miles raymer            103\n",
       "evan minsker            100\n",
       "Name: author, dtype: int64"
      ]
     },
     "execution_count": 18,
     "metadata": {},
     "output_type": "execute_result"
    }
   ],
   "source": [
    "subdata = raw_data.drop(remove_indices)\n",
    "subdata['author'].value_counts() # check if the <= 100 reviews have been removed"
   ]
  },
  {
   "cell_type": "code",
   "execution_count": 19,
   "metadata": {},
   "outputs": [
    {
     "data": {
      "text/plain": [
       "aaron leitko                                                   97\n",
       "brent dicrescenzo                                              93\n",
       "zach baron                                                     89\n",
       "tim finney                                                     86\n",
       "ryan schreiber                                                 85\n",
       "rebecca raber                                                  84\n",
       "jonah bromwich                                                 81\n",
       "david bevan                                                    80\n",
       "matthew perpetua                                               70\n",
       "zoe camp                                                       69\n",
       "brad haywood                                                   69\n",
       "andy o'connor                                                  67\n",
       "david drake                                                    66\n",
       "jason nickey                                                   65\n",
       "cory d. byrom                                                  63\n",
       "christopher dare                                               62\n",
       "kim kelly                                                      62\n",
       "jordan sargent                                                 59\n",
       "sean fennessey                                                 59\n",
       "andrew ryce                                                    58\n",
       "seth colter walls                                              58\n",
       "cameron macdonald                                              58\n",
       "sheldon pearce                                                 57\n",
       "steven hyden                                                   55\n",
       "saby reyes-kulkarni                                            54\n",
       "craig jenkins                                                  53\n",
       "evan rytlewski                                                 53\n",
       "rollie pemberton                                               53\n",
       "amy granzin                                                    53\n",
       "liz colville                                                   53\n",
       "                                                               ..\n",
       "carl wilson                                                     1\n",
       "martin clark                                                    1\n",
       "minna zhou                                                      1\n",
       "christopher weber                                               1\n",
       "andrew lehman                                                   1\n",
       "dorian lynskey                                                  1\n",
       "maura johnston                                                  1\n",
       "kris ex                                                         1\n",
       "edwin stats houghton                                            1\n",
       "nate patrin                                                     1\n",
       "matt wellins                                                    1\n",
       "hannah giorgis                                                  1\n",
       "drew daniel                                                     1\n",
       "judy berman                                                     1\n",
       "andrew nosnitsky                                                1\n",
       "brian howe & brandon stosuy                                     1\n",
       "john everhart                                                   1\n",
       "bob stanley                                                     1\n",
       "stephen  m. deusner                                             1\n",
       "andy linhardt                                                   1\n",
       "brad haywood & ryan schreiber                                   1\n",
       "zach hammerman                                                  1\n",
       "andy beta, brandon stosuy & mark richardson                     1\n",
       "bruce tiffee                                                    1\n",
       "edward howard                                                   1\n",
       "ryan schreiber & alison fields                                  1\n",
       "rollie pemberton & nick sylvester                               1\n",
       "choppa moussaoui, with help from mullah omar, ethan p, and      1\n",
       "nathan humpal                                                   1\n",
       "loren ludwig & jascha hoffman                                   1\n",
       "Name: author, Length: 380, dtype: int64"
      ]
     },
     "execution_count": 19,
     "metadata": {},
     "output_type": "execute_result"
    }
   ],
   "source": [
    "# created dataframe with authors < 100 reviews\n",
    "less100data = raw_data.drop(keep_indices)\n",
    "less100data['author'].value_counts()"
   ]
  },
  {
   "cell_type": "markdown",
   "metadata": {},
   "source": [
    "# Amount of reviews for authors with over 100"
   ]
  },
  {
   "cell_type": "code",
   "execution_count": 20,
   "metadata": {},
   "outputs": [
    {
     "data": {
      "text/plain": [
       "<matplotlib.axes._subplots.AxesSubplot at 0x1b4e4467b38>"
      ]
     },
     "execution_count": 20,
     "metadata": {},
     "output_type": "execute_result"
    },
    {
     "data": {
      "image/png": "[encoded data removed]",
      "text/plain": [
       "<Figure size 720x720 with 1 Axes>"
      ]
     },
     "metadata": {
      "needs_background": "light"
     },
     "output_type": "display_data"
    }
   ],
   "source": [
    "plt.figure(figsize = (10,10))\n",
    "subdata['author'].value_counts().plot(kind='barh')"
   ]
  },
  {
   "cell_type": "markdown",
   "metadata": {},
   "source": [
    "# Differentiation of Top 52 vs All vs Under 52 authors "
   ]
  },
  {
   "cell_type": "code",
   "execution_count": 21,
   "metadata": {},
   "outputs": [],
   "source": [
    "total = raw_data['genre'].value_counts(ascending = True)\n",
    "authors100 = subdata['genre'].value_counts(ascending = True)\n",
    "less100 = less100data['genre'].value_counts(ascending = True)"
   ]
  },
  {
   "cell_type": "code",
   "execution_count": 22,
   "metadata": {},
   "outputs": [
    {
     "data": {
      "text/plain": [
       "(array([0, 1, 2, 3, 4, 5, 6, 7, 8]), <a list of 9 Text xticklabel objects>)"
      ]
     },
     "execution_count": 22,
     "metadata": {},
     "output_type": "execute_result"
    },
    {
     "data": {
      "image/png": "[encoded data removed]",
      "text/plain": [
       "<Figure size 1656x1080 with 3 Axes>"
      ]
     },
     "metadata": {
      "needs_background": "light"
     },
     "output_type": "display_data"
    }
   ],
   "source": [
    "fig = plt.figure(figsize = (23, 15), edgecolor = 'Red')\n",
    "\n",
    "\n",
    "ax1 = fig.add_subplot(2, 2, 1)\n",
    "total.plot(ax = ax1, kind = 'bar', title = 'Total Reviews for Genres')\n",
    "plt.xticks(rotation = 'horizontal')\n",
    "\n",
    "ax2 = fig.add_subplot(2, 2, 2)\n",
    "authors100.plot(ax = ax2, kind = 'bar', title = 'Total Reviews for Genres for top 52 authors')\n",
    "plt.xticks(rotation = 'horizontal')\n",
    "\n",
    "ax3 = fig.add_subplot(2, 2, 3)\n",
    "less100.plot(ax = ax3, kind = 'bar', title = 'Total Reviews for Genres for remaining authors')\n",
    "plt.xticks(rotation = 'horizontal')"
   ]
  },
  {
   "cell_type": "code",
   "execution_count": 23,
   "metadata": {},
   "outputs": [],
   "source": [
    "# Solution to separating the genres for authors with >= 100 reviews for Pitchfork\n",
    "rap_data = subdata[subdata['genre'] == 'rap']\n",
    "electronic_data = subdata[subdata['genre'] == 'electronic']\n",
    "pop_and_rb_data = subdata[subdata['genre'] == 'pop/r&b']\n",
    "experimental_data = subdata[subdata['genre'] == 'experimental']\n",
    "metal_data = subdata[subdata['genre'] == 'metal']\n",
    "global_data = subdata[subdata['genre'] == 'global']\n",
    "rock_data = subdata[subdata['genre'] == 'rock']\n",
    "folk_and_country_data = subdata[subdata['genre'] == 'folk/country']\n",
    "jazz_data = subdata[subdata['genre'] == 'jazz']"
   ]
  },
  {
   "cell_type": "code",
   "execution_count": 24,
   "metadata": {},
   "outputs": [
    {
     "data": {
      "text/html": [
       "<div>\n",
       "<style scoped>\n",
       "    .dataframe tbody tr th:only-of-type {\n",
       "        vertical-align: middle;\n",
       "    }\n",
       "\n",
       "    .dataframe tbody tr th {\n",
       "        vertical-align: top;\n",
       "    }\n",
       "\n",
       "    .dataframe thead th {\n",
       "        text-align: right;\n",
       "    }\n",
       "</style>\n",
       "<table border=\"1\" class=\"dataframe\">\n",
       "  <thead>\n",
       "    <tr style=\"text-align: right;\">\n",
       "      <th></th>\n",
       "      <th>reviewid</th>\n",
       "      <th>title</th>\n",
       "      <th>score</th>\n",
       "      <th>best_new_music</th>\n",
       "      <th>author</th>\n",
       "      <th>author_type</th>\n",
       "      <th>pub_date</th>\n",
       "      <th>pub_year</th>\n",
       "      <th>content</th>\n",
       "      <th>genre</th>\n",
       "      <th>label</th>\n",
       "      <th>artist</th>\n",
       "    </tr>\n",
       "  </thead>\n",
       "  <tbody>\n",
       "    <tr>\n",
       "      <th>0</th>\n",
       "      <td>22703</td>\n",
       "      <td>mezzanine</td>\n",
       "      <td>93</td>\n",
       "      <td>0</td>\n",
       "      <td>nate patrin</td>\n",
       "      <td>contributor</td>\n",
       "      <td>2017-01-08</td>\n",
       "      <td>2017</td>\n",
       "      <td>“Trip-hop” eventually became a ’90s punchline,...</td>\n",
       "      <td>electronic</td>\n",
       "      <td>virgin</td>\n",
       "      <td>massive attack</td>\n",
       "    </tr>\n",
       "    <tr>\n",
       "      <th>7</th>\n",
       "      <td>22694</td>\n",
       "      <td>tehillim</td>\n",
       "      <td>70</td>\n",
       "      <td>0</td>\n",
       "      <td>andy beta</td>\n",
       "      <td>contributor</td>\n",
       "      <td>2017-01-05</td>\n",
       "      <td>2017</td>\n",
       "      <td>For the last thirty years, Israel’s electronic...</td>\n",
       "      <td>electronic</td>\n",
       "      <td>stroboscopic artefacts</td>\n",
       "      <td>yotam avni</td>\n",
       "    </tr>\n",
       "    <tr>\n",
       "      <th>24</th>\n",
       "      <td>22713</td>\n",
       "      <td>the wasp factory</td>\n",
       "      <td>73</td>\n",
       "      <td>0</td>\n",
       "      <td>brian howe</td>\n",
       "      <td>contributor</td>\n",
       "      <td>2016-12-27</td>\n",
       "      <td>2016</td>\n",
       "      <td>How do you stage an opera that mostly takes pl...</td>\n",
       "      <td>electronic</td>\n",
       "      <td>bedroom community</td>\n",
       "      <td>ben frost</td>\n",
       "    </tr>\n",
       "  </tbody>\n",
       "</table>\n",
       "</div>"
      ],
      "text/plain": [
       "    reviewid             title  score  best_new_music       author  \\\n",
       "0      22703         mezzanine     93               0  nate patrin   \n",
       "7      22694          tehillim     70               0    andy beta   \n",
       "24     22713  the wasp factory     73               0   brian howe   \n",
       "\n",
       "    author_type    pub_date  pub_year  \\\n",
       "0   contributor  2017-01-08      2017   \n",
       "7   contributor  2017-01-05      2017   \n",
       "24  contributor  2016-12-27      2016   \n",
       "\n",
       "                                              content       genre  \\\n",
       "0   “Trip-hop” eventually became a ’90s punchline,...  electronic   \n",
       "7   For the last thirty years, Israel’s electronic...  electronic   \n",
       "24  How do you stage an opera that mostly takes pl...  electronic   \n",
       "\n",
       "                     label          artist  \n",
       "0                   virgin  massive attack  \n",
       "7   stroboscopic artefacts      yotam avni  \n",
       "24       bedroom community       ben frost  "
      ]
     },
     "execution_count": 24,
     "metadata": {},
     "output_type": "execute_result"
    }
   ],
   "source": [
    "# Another Solution to separating the genres, but takes longer to do compared to the first solution\n",
    "electronic = (subdata['genre'] == 'electronic')\n",
    "electronic_data = subdata[electronic]\n",
    "electronic_data.head(3)"
   ]
  },
  {
   "cell_type": "markdown",
   "metadata": {},
   "source": [
    "# Best New Music scores through the years"
   ]
  },
  {
   "cell_type": "code",
   "execution_count": 25,
   "metadata": {},
   "outputs": [
    {
     "data": {
      "text/html": [
       "<div>\n",
       "<style scoped>\n",
       "    .dataframe tbody tr th:only-of-type {\n",
       "        vertical-align: middle;\n",
       "    }\n",
       "\n",
       "    .dataframe tbody tr th {\n",
       "        vertical-align: top;\n",
       "    }\n",
       "\n",
       "    .dataframe thead th {\n",
       "        text-align: right;\n",
       "    }\n",
       "</style>\n",
       "<table border=\"1\" class=\"dataframe\">\n",
       "  <thead>\n",
       "    <tr style=\"text-align: right;\">\n",
       "      <th></th>\n",
       "      <th>reviewid</th>\n",
       "      <th>title</th>\n",
       "      <th>score</th>\n",
       "      <th>best_new_music</th>\n",
       "      <th>author</th>\n",
       "      <th>author_type</th>\n",
       "      <th>pub_date</th>\n",
       "      <th>pub_year</th>\n",
       "      <th>content</th>\n",
       "      <th>genre</th>\n",
       "      <th>label</th>\n",
       "      <th>artist</th>\n",
       "    </tr>\n",
       "  </thead>\n",
       "  <tbody>\n",
       "    <tr>\n",
       "      <th>3</th>\n",
       "      <td>22661</td>\n",
       "      <td>first songs</td>\n",
       "      <td>90</td>\n",
       "      <td>1</td>\n",
       "      <td>jenn pelly</td>\n",
       "      <td>associate reviews editor</td>\n",
       "      <td>2017-01-06</td>\n",
       "      <td>2017</td>\n",
       "      <td>Kleenex began with a crash. It transpired one ...</td>\n",
       "      <td>rock</td>\n",
       "      <td>kill rock stars</td>\n",
       "      <td>kleenex, liliput</td>\n",
       "    </tr>\n",
       "    <tr>\n",
       "      <th>11</th>\n",
       "      <td>22745</td>\n",
       "      <td>run the jewels 3</td>\n",
       "      <td>86</td>\n",
       "      <td>1</td>\n",
       "      <td>sheldon pearce</td>\n",
       "      <td>associate staff writer</td>\n",
       "      <td>2017-01-03</td>\n",
       "      <td>2017</td>\n",
       "      <td>On 2006’s “That’s Life,” Killer Mike boasted “...</td>\n",
       "      <td>rap</td>\n",
       "      <td>self-released</td>\n",
       "      <td>run the jewels</td>\n",
       "    </tr>\n",
       "    <tr>\n",
       "      <th>28</th>\n",
       "      <td>22707</td>\n",
       "      <td>swiss radio days vol. 41 - zurich 1961</td>\n",
       "      <td>90</td>\n",
       "      <td>1</td>\n",
       "      <td>seth colter-walls</td>\n",
       "      <td>contributor</td>\n",
       "      <td>2016-12-22</td>\n",
       "      <td>2016</td>\n",
       "      <td>All is not well with Ray Charles’ catalog nowa...</td>\n",
       "      <td>jazz</td>\n",
       "      <td>challenge</td>\n",
       "      <td>ray charles</td>\n",
       "    </tr>\n",
       "    <tr>\n",
       "      <th>50</th>\n",
       "      <td>22663</td>\n",
       "      <td>the early years 1965-1972</td>\n",
       "      <td>88</td>\n",
       "      <td>1</td>\n",
       "      <td>jesse jarnow</td>\n",
       "      <td>contributor</td>\n",
       "      <td>2016-12-14</td>\n",
       "      <td>2016</td>\n",
       "      <td>“Today’s underground may be the answer to tomo...</td>\n",
       "      <td>rock</td>\n",
       "      <td>legacy</td>\n",
       "      <td>pink floyd</td>\n",
       "    </tr>\n",
       "    <tr>\n",
       "      <th>56</th>\n",
       "      <td>22593</td>\n",
       "      <td>bobo yy: belle poque in upper volta</td>\n",
       "      <td>84</td>\n",
       "      <td>1</td>\n",
       "      <td>andy beta</td>\n",
       "      <td>contributor</td>\n",
       "      <td>2016-12-10</td>\n",
       "      <td>2016</td>\n",
       "      <td>They may appear to be hardy and resilient, but...</td>\n",
       "      <td>NaN</td>\n",
       "      <td>numero group</td>\n",
       "      <td>various artists</td>\n",
       "    </tr>\n",
       "  </tbody>\n",
       "</table>\n",
       "</div>"
      ],
      "text/plain": [
       "    reviewid                                   title  score  best_new_music  \\\n",
       "3      22661                             first songs     90               1   \n",
       "11     22745                        run the jewels 3     86               1   \n",
       "28     22707  swiss radio days vol. 41 - zurich 1961     90               1   \n",
       "50     22663               the early years 1965-1972     88               1   \n",
       "56     22593     bobo yy: belle poque in upper volta     84               1   \n",
       "\n",
       "               author               author_type    pub_date  pub_year  \\\n",
       "3          jenn pelly  associate reviews editor  2017-01-06      2017   \n",
       "11     sheldon pearce    associate staff writer  2017-01-03      2017   \n",
       "28  seth colter-walls               contributor  2016-12-22      2016   \n",
       "50       jesse jarnow               contributor  2016-12-14      2016   \n",
       "56          andy beta               contributor  2016-12-10      2016   \n",
       "\n",
       "                                              content genre            label  \\\n",
       "3   Kleenex began with a crash. It transpired one ...  rock  kill rock stars   \n",
       "11  On 2006’s “That’s Life,” Killer Mike boasted “...   rap    self-released   \n",
       "28  All is not well with Ray Charles’ catalog nowa...  jazz        challenge   \n",
       "50  “Today’s underground may be the answer to tomo...  rock           legacy   \n",
       "56  They may appear to be hardy and resilient, but...   NaN     numero group   \n",
       "\n",
       "              artist  \n",
       "3   kleenex, liliput  \n",
       "11    run the jewels  \n",
       "28       ray charles  \n",
       "50        pink floyd  \n",
       "56   various artists  "
      ]
     },
     "execution_count": 25,
     "metadata": {},
     "output_type": "execute_result"
    }
   ],
   "source": [
    "best_new_music = raw_data[raw_data['best_new_music'] == 1] # grab all the rows with a 1 that represents it got best new music by Pitchfork\n",
    "best_new_music.head()"
   ]
  },
  {
   "cell_type": "code",
   "execution_count": 26,
   "metadata": {},
   "outputs": [
    {
     "data": {
      "text/plain": [
       "array([2017, 2016, 2015, 2014, 2013, 2012, 2011, 2010, 2009, 2008, 2007,\n",
       "       2006, 2005, 2004, 2003], dtype=int64)"
      ]
     },
     "execution_count": 26,
     "metadata": {},
     "output_type": "execute_result"
    }
   ],
   "source": [
    "best_new_music['pub_year'].unique() # find out the years range for best new music"
   ]
  },
  {
   "cell_type": "code",
   "execution_count": 27,
   "metadata": {},
   "outputs": [
    {
     "data": {
      "text/plain": [
       "([<matplotlib.axis.XTick at 0x1b4e3f605c0>,\n",
       "  <matplotlib.axis.XTick at 0x1b4e495dc88>,\n",
       "  <matplotlib.axis.XTick at 0x1b4e47cbb38>,\n",
       "  <matplotlib.axis.XTick at 0x1b4e4ab15c0>,\n",
       "  <matplotlib.axis.XTick at 0x1b4e4ab1a58>,\n",
       "  <matplotlib.axis.XTick at 0x1b4e4ab1f28>,\n",
       "  <matplotlib.axis.XTick at 0x1b4e4ab2438>,\n",
       "  <matplotlib.axis.XTick at 0x1b4e4ab2940>,\n",
       "  <matplotlib.axis.XTick at 0x1b4e4ab2eb8>,\n",
       "  <matplotlib.axis.XTick at 0x1b4e4ac8470>,\n",
       "  <matplotlib.axis.XTick at 0x1b4e4ab27b8>,\n",
       "  <matplotlib.axis.XTick at 0x1b4e4ab19b0>,\n",
       "  <matplotlib.axis.XTick at 0x1b4e4ac8cf8>,\n",
       "  <matplotlib.axis.XTick at 0x1b4e4ac61d0>],\n",
       " <a list of 14 Text xticklabel objects>)"
      ]
     },
     "execution_count": 27,
     "metadata": {},
     "output_type": "execute_result"
    },
    {
     "data": {
      "image/png": "[encoded data removed]",
      "text/plain": [
       "<Figure size 720x720 with 1 Axes>"
      ]
     },
     "metadata": {
      "needs_background": "light"
     },
     "output_type": "display_data"
    }
   ],
   "source": [
    "x = best_new_music['pub_year']\n",
    "y = best_new_music['score']\n",
    "\n",
    "plt.figure(figsize = (10, 10))\n",
    "plt.plot(x, y, 'b.')\n",
    "plt.xticks(np.arange(2003, 2017))"
   ]
  }
 ],
 "metadata": {
  "kernelspec": {
   "display_name": "Python 3",
   "language": "python",
   "name": "python3"
  },
  "language_info": {
   "codemirror_mode": {
    "name": "ipython",
    "version": 3
   },
   "file_extension": ".py",
   "mimetype": "text/x-python",
   "name": "python",
   "nbconvert_exporter": "python",
   "pygments_lexer": "ipython3",
   "version": "3.7.3"
  }
 },
 "nbformat": 4,
 "nbformat_minor": 1
}
