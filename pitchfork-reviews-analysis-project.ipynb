{
 "cells": [
  {
   "cell_type": "code",
   "execution_count": 24,
   "metadata": {
    "_cell_guid": "b1076dfc-b9ad-4769-8c92-a6c4dae69d19",
    "_uuid": "8f2839f25d086af736a60e9eeb907d3b93b6e0e5"
   },
   "outputs": [],
   "source": [
    "import numpy as np # linear algebra\n",
    "import pandas as pd # data processing, CSV file I/O (e.g. pd.read_csv)\n",
    "import matplotlib.pyplot as plt # for plotting"
   ]
  },
  {
   "cell_type": "code",
   "execution_count": 25,
   "metadata": {},
   "outputs": [],
   "source": [
    "# Download the dataset from Kaggle at https://www.kaggle.com/bcyphers/pitchfork-reviews/download\n",
    "# Extract the zip and retrieve \"reviews.csv\""
   ]
  },
  {
   "cell_type": "code",
   "execution_count": 26,
   "metadata": {
    "_cell_guid": "79c7e3d0-c299-4dcb-8224-4455121ee9b0",
    "_uuid": "d629ff2d2480ee46fbb7e2d37f6b5fab8052498a"
   },
   "outputs": [
    {
     "data": {
      "text/html": [
       "<div>\n",
       "<style scoped>\n",
       "    .dataframe tbody tr th:only-of-type {\n",
       "        vertical-align: middle;\n",
       "    }\n",
       "\n",
       "    .dataframe tbody tr th {\n",
       "        vertical-align: top;\n",
       "    }\n",
       "\n",
       "    .dataframe thead th {\n",
       "        text-align: right;\n",
       "    }\n",
       "</style>\n",
       "<table border=\"1\" class=\"dataframe\">\n",
       "  <thead>\n",
       "    <tr style=\"text-align: right;\">\n",
       "      <th></th>\n",
       "      <th>reviewid</th>\n",
       "      <th>Unnamed: 0</th>\n",
       "      <th>title</th>\n",
       "      <th>url</th>\n",
       "      <th>score</th>\n",
       "      <th>best_new_music</th>\n",
       "      <th>author</th>\n",
       "      <th>author_type</th>\n",
       "      <th>pub_date</th>\n",
       "      <th>pub_weekday</th>\n",
       "      <th>pub_day</th>\n",
       "      <th>pub_month</th>\n",
       "      <th>pub_year</th>\n",
       "      <th>reviewid.1</th>\n",
       "      <th>content</th>\n",
       "      <th>genre</th>\n",
       "      <th>label</th>\n",
       "      <th>artist</th>\n",
       "    </tr>\n",
       "  </thead>\n",
       "  <tbody>\n",
       "    <tr>\n",
       "      <th>0</th>\n",
       "      <td>22703</td>\n",
       "      <td>0</td>\n",
       "      <td>mezzanine</td>\n",
       "      <td>http://pitchfork.com/reviews/albums/22703-mezz...</td>\n",
       "      <td>9.3</td>\n",
       "      <td>0</td>\n",
       "      <td>nate patrin</td>\n",
       "      <td>contributor</td>\n",
       "      <td>2017-01-08</td>\n",
       "      <td>6</td>\n",
       "      <td>8</td>\n",
       "      <td>1</td>\n",
       "      <td>2017</td>\n",
       "      <td>22703</td>\n",
       "      <td>“Trip-hop” eventually became a ’90s punchline,...</td>\n",
       "      <td>electronic</td>\n",
       "      <td>virgin</td>\n",
       "      <td>massive attack</td>\n",
       "    </tr>\n",
       "    <tr>\n",
       "      <th>1</th>\n",
       "      <td>22721</td>\n",
       "      <td>1</td>\n",
       "      <td>prelapsarian</td>\n",
       "      <td>http://pitchfork.com/reviews/albums/22721-prel...</td>\n",
       "      <td>7.9</td>\n",
       "      <td>0</td>\n",
       "      <td>zoe camp</td>\n",
       "      <td>contributor</td>\n",
       "      <td>2017-01-07</td>\n",
       "      <td>5</td>\n",
       "      <td>7</td>\n",
       "      <td>1</td>\n",
       "      <td>2017</td>\n",
       "      <td>22721</td>\n",
       "      <td>Eight years, five albums, and two EPs in, the ...</td>\n",
       "      <td>metal</td>\n",
       "      <td>hathenter</td>\n",
       "      <td>krallice</td>\n",
       "    </tr>\n",
       "    <tr>\n",
       "      <th>2</th>\n",
       "      <td>22659</td>\n",
       "      <td>2</td>\n",
       "      <td>all of them naturals</td>\n",
       "      <td>http://pitchfork.com/reviews/albums/22659-all-...</td>\n",
       "      <td>7.3</td>\n",
       "      <td>0</td>\n",
       "      <td>david glickman</td>\n",
       "      <td>contributor</td>\n",
       "      <td>2017-01-07</td>\n",
       "      <td>5</td>\n",
       "      <td>7</td>\n",
       "      <td>1</td>\n",
       "      <td>2017</td>\n",
       "      <td>22659</td>\n",
       "      <td>Minneapolis’ Uranium Club seem to revel in bei...</td>\n",
       "      <td>rock</td>\n",
       "      <td>static shock</td>\n",
       "      <td>uranium club</td>\n",
       "    </tr>\n",
       "  </tbody>\n",
       "</table>\n",
       "</div>"
      ],
      "text/plain": [
       "   reviewid  Unnamed: 0                 title  \\\n",
       "0     22703           0             mezzanine   \n",
       "1     22721           1          prelapsarian   \n",
       "2     22659           2  all of them naturals   \n",
       "\n",
       "                                                 url  score  best_new_music  \\\n",
       "0  http://pitchfork.com/reviews/albums/22703-mezz...    9.3               0   \n",
       "1  http://pitchfork.com/reviews/albums/22721-prel...    7.9               0   \n",
       "2  http://pitchfork.com/reviews/albums/22659-all-...    7.3               0   \n",
       "\n",
       "           author  author_type    pub_date  pub_weekday  pub_day  pub_month  \\\n",
       "0     nate patrin  contributor  2017-01-08            6        8          1   \n",
       "1        zoe camp  contributor  2017-01-07            5        7          1   \n",
       "2  david glickman  contributor  2017-01-07            5        7          1   \n",
       "\n",
       "   pub_year  reviewid.1                                            content  \\\n",
       "0      2017       22703  “Trip-hop” eventually became a ’90s punchline,...   \n",
       "1      2017       22721  Eight years, five albums, and two EPs in, the ...   \n",
       "2      2017       22659  Minneapolis’ Uranium Club seem to revel in bei...   \n",
       "\n",
       "        genre         label          artist  \n",
       "0  electronic        virgin  massive attack  \n",
       "1       metal     hathenter        krallice  \n",
       "2        rock  static shock    uranium club  "
      ]
     },
     "execution_count": 26,
     "metadata": {},
     "output_type": "execute_result"
    }
   ],
   "source": [
    "raw_data = pd.read_csv(\"C:/Users/Home/Downloads/reviews.csv/reviews.csv\")\n",
    "raw_data.head(3)"
   ]
  },
  {
   "cell_type": "code",
   "execution_count": 27,
   "metadata": {},
   "outputs": [
    {
     "data": {
      "text/plain": [
       "reviewid            int64\n",
       "Unnamed: 0          int64\n",
       "title              object\n",
       "url                object\n",
       "score             float64\n",
       "best_new_music      int64\n",
       "author             object\n",
       "author_type        object\n",
       "pub_date           object\n",
       "pub_weekday         int64\n",
       "pub_day             int64\n",
       "pub_month           int64\n",
       "pub_year            int64\n",
       "reviewid.1          int64\n",
       "content            object\n",
       "genre              object\n",
       "label              object\n",
       "artist             object\n",
       "dtype: object"
      ]
     },
     "execution_count": 27,
     "metadata": {},
     "output_type": "execute_result"
    }
   ],
   "source": [
    "raw_data['author'] = raw_data['author'].astype(str)\n",
    "raw_data.dtypes"
   ]
  },
  {
   "cell_type": "code",
   "execution_count": 28,
   "metadata": {},
   "outputs": [],
   "source": [
    "strings = raw_data['author'].value_counts()[:52].index # 52 authors over 100 reviews or more\n",
    "author_names = []\n",
    "for x in strings:\n",
    "    author_names.append(x)"
   ]
  },
  {
   "cell_type": "code",
   "execution_count": 29,
   "metadata": {},
   "outputs": [
    {
     "data": {
      "text/plain": [
       "reviewid             0\n",
       "Unnamed: 0           0\n",
       "title                2\n",
       "url                  0\n",
       "score                0\n",
       "best_new_music       0\n",
       "author               0\n",
       "author_type       3904\n",
       "pub_date             0\n",
       "pub_weekday          0\n",
       "pub_day              0\n",
       "pub_month            0\n",
       "pub_year             0\n",
       "reviewid.1           0\n",
       "content             10\n",
       "genre             2364\n",
       "label               47\n",
       "artist               2\n",
       "dtype: int64"
      ]
     },
     "execution_count": 29,
     "metadata": {},
     "output_type": "execute_result"
    }
   ],
   "source": [
    "pd.isnull(raw_data).sum() # Check for null values in dataset"
   ]
  },
  {
   "cell_type": "code",
   "execution_count": 30,
   "metadata": {},
   "outputs": [
    {
     "data": {
      "text/plain": [
       "0.6833260822275397"
      ]
     },
     "execution_count": 30,
     "metadata": {},
     "output_type": "execute_result"
    }
   ],
   "source": [
    "raw_data['author'].value_counts(normalize = True)[:52].sum() # percentage of all reviews"
   ]
  },
  {
   "cell_type": "code",
   "execution_count": 31,
   "metadata": {},
   "outputs": [
    {
     "data": {
      "text/plain": [
       "52"
      ]
     },
     "execution_count": 31,
     "metadata": {},
     "output_type": "execute_result"
    }
   ],
   "source": [
    "(raw_data['author'].value_counts() >= 100).sum() # proves how many authors have over 100 reviews or more"
   ]
  },
  {
   "cell_type": "code",
   "execution_count": 32,
   "metadata": {},
   "outputs": [],
   "source": [
    "author_less = []\n",
    "strings = raw_data['author'].value_counts()[52:].index\n",
    "for x in strings:\n",
    "    author_less.append(x)"
   ]
  },
  {
   "cell_type": "code",
   "execution_count": 33,
   "metadata": {},
   "outputs": [],
   "source": [
    "# get the indices of the authors with >= 100 reviews, needed for data cleaning\n",
    "keep_indices = []\n",
    "increment = -1\n",
    "for i in raw_data['author']: # iterate through the author column of the dataframe\n",
    "    increment += 1 # increase when the iteration for the row has been complete to check if the author is in the list\n",
    "    for j in range(len(author_names)): # iterate through the names with >= 100 reviews\n",
    "        if i == author_names[j]: # check if they are the same\n",
    "           keep_indices.append(increment) # append the indice"
   ]
  },
  {
   "cell_type": "code",
   "execution_count": 34,
   "metadata": {},
   "outputs": [
    {
     "name": "stdout",
     "output_type": "stream",
     "text": [
      "12565\n",
      "12565\n"
     ]
    }
   ],
   "source": [
    "# compare if the amonut of reviews is the same as the authors total reviews with >= 100 \n",
    "print(len(keep_indices))\n",
    "print(raw_data['author'].value_counts()[:52].sum())"
   ]
  },
  {
   "cell_type": "code",
   "execution_count": 35,
   "metadata": {},
   "outputs": [],
   "source": [
    "# get the indices we want to drop\n",
    "remove_indices = []\n",
    "increment = -1\n",
    "for i in raw_data['author']:\n",
    "    increment += 1\n",
    "    for j in range(len(author_less)):\n",
    "        if i == author_less[j]:\n",
    "            remove_indices.append(increment)"
   ]
  },
  {
   "cell_type": "code",
   "execution_count": 36,
   "metadata": {},
   "outputs": [
    {
     "name": "stdout",
     "output_type": "stream",
     "text": [
      "5823\n",
      "5823\n"
     ]
    }
   ],
   "source": [
    "# compare if the amonut of reviews is the same as the authors total reviews with >= 100 \n",
    "print(len(remove_indices))\n",
    "print(raw_data['author'].value_counts()[52:].sum())"
   ]
  },
  {
   "cell_type": "code",
   "execution_count": 37,
   "metadata": {},
   "outputs": [
    {
     "data": {
      "text/plain": [
       "joe tangari             815\n",
       "stephen m. deusner      725\n",
       "ian cohen               699\n",
       "brian howe              500\n",
       "mark richardson         476\n",
       "stuart berman           445\n",
       "marc hogan              439\n",
       "nate patrin             347\n",
       "marc masters            312\n",
       "jayson greene           299\n",
       "grayson currin          289\n",
       "brandon stosuy          287\n",
       "matthew murphy          274\n",
       "dominique leone         273\n",
       "jess harvell            273\n",
       "andrew gaerig           270\n",
       "rob mitchum             267\n",
       "jason crock             267\n",
       "andy beta               249\n",
       "paul thompson           222\n",
       "joshua klein            217\n",
       "larry fitzmaurice       217\n",
       "chris dahlen            214\n",
       "nick neyland            211\n",
       "philip sherburne        209\n",
       "adam moerder            209\n",
       "tom breihan             208\n",
       "amanda petrusich        200\n",
       "matt lemay              196\n",
       "ryan dombal             174\n",
       "mike powell             160\n",
       "david raposa            155\n",
       "zach kelly              153\n",
       "sam ubl                 152\n",
       "nitsuh abebe            144\n",
       "eric harvey             136\n",
       "grayson haver currin    136\n",
       "mark richard-san        135\n",
       "william bowers          129\n",
       "eric carr               128\n",
       "douglas wolk            128\n",
       "nick sylvester          125\n",
       "scott plagenhoef        123\n",
       "paul cooper             120\n",
       "lindsay zoladz          117\n",
       "jason heller            112\n",
       "joe colly               109\n",
       "joshua love             107\n",
       "mark pytlik             106\n",
       "laura snapes            104\n",
       "miles raymer            103\n",
       "evan minsker            100\n",
       "Name: author, dtype: int64"
      ]
     },
     "execution_count": 37,
     "metadata": {},
     "output_type": "execute_result"
    }
   ],
   "source": [
    "subdata = raw_data.drop(remove_indices)\n",
    "subdata['author'].value_counts() # check if the <= 100 reviews have been removed"
   ]
  },
  {
   "cell_type": "code",
   "execution_count": 38,
   "metadata": {},
   "outputs": [
    {
     "data": {
      "text/plain": [
       "<matplotlib.axes._subplots.AxesSubplot at 0x1ead3d65748>"
      ]
     },
     "execution_count": 38,
     "metadata": {},
     "output_type": "execute_result"
    },
    {
     "data": {
      "image/png": "[encoded data removed]",
      "text/plain": [
       "<Figure size 720x720 with 1 Axes>"
      ]
     },
     "metadata": {
      "needs_background": "light"
     },
     "output_type": "display_data"
    }
   ],
   "source": [
    "plt.figure(figsize = (10,10))\n",
    "subdata['author'].value_counts().plot(kind='barh')"
   ]
  }
 ],
 "metadata": {
  "kernelspec": {
   "display_name": "Python 3",
   "language": "python",
   "name": "python3"
  },
  "language_info": {
   "codemirror_mode": {
    "name": "ipython",
    "version": 3
   },
   "file_extension": ".py",
   "mimetype": "text/x-python",
   "name": "python",
   "nbconvert_exporter": "python",
   "pygments_lexer": "ipython3",
   "version": "3.7.3"
  }
 },
 "nbformat": 4,
 "nbformat_minor": 1
}
